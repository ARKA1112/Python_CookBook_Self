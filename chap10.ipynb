{
 "cells": [
  {
   "cell_type": "code",
   "execution_count": 1,
   "metadata": {},
   "outputs": [],
   "source": [
    "# Modules and Packages"
   ]
  },
  {
   "cell_type": "code",
   "execution_count": 2,
   "metadata": {},
   "outputs": [
    {
     "data": {
      "text/plain": [
       "'graphics/\\n    __init__.py\\n    primitive/\\n        __init__.py\\n        line.py\\n        fill.py\\n        text.py\\n    formats/\\n        __init__.py\\n        png.py\\n        jpg.py\\n'"
      ]
     },
     "execution_count": 2,
     "metadata": {},
     "output_type": "execute_result"
    }
   ],
   "source": [
    "## Definitive structure of a package is , every directory should have __init__.py\n",
    "\n",
    "\n",
    "###\n",
    "'''graphics/\n",
    "    __init__.py\n",
    "    primitive/\n",
    "        __init__.py\n",
    "        line.py\n",
    "        fill.py\n",
    "        text.py\n",
    "    formats/\n",
    "        __init__.py\n",
    "        png.py\n",
    "        jpg.py\n",
    "'''"
   ]
  },
  {
   "cell_type": "markdown",
   "metadata": {},
   "source": [
    "## Splitting a Module into Multiple files"
   ]
  },
  {
   "cell_type": "code",
   "execution_count": 3,
   "metadata": {},
   "outputs": [],
   "source": [
    "class A:\n",
    "    def spam(self):\n",
    "        print('A.spam')\n",
    "\n",
    "class B(A):\n",
    "    def bar(self):\n",
    "        print('B.bar')\n",
    "\n",
    "\n",
    "# create a directory called mymodule/\n",
    "#                               __init__.py\n",
    "#                               a.py\n",
    "#                               b.py\n",
    "\n",
    "# in a.py put the class A and in b.py put the class B\n",
    "\n",
    "# In the __init__.py put from .a import A and from .b import  B\n",
    "\n",
    "# Now one can perform import mymodule\n",
    "\n",
    "# Then a = mymodule.A()\n",
    "#      a.spam()\n",
    "\n",
    "# Then b = mymodule.B()\n",
    "#      b.bar()\n"
   ]
  },
  {
   "cell_type": "markdown",
   "metadata": {},
   "source": [
    "## Namespace Package"
   ]
  },
  {
   "cell_type": "code",
   "execution_count": null,
   "metadata": {},
   "outputs": [],
   "source": [
    "#Suppose there are two different packages in two different folders but under the nae spam\n",
    "\n",
    "# foo-package/\n",
    "#   spam/\n",
    "#       blah.py\n",
    "\n",
    "# bar-package/\n",
    "#   spam/\n",
    "#       grok.py\n",
    "\n",
    "\n",
    "#import sys\n",
    "\n",
    "#sys.path.extend(['foo-package', 'bar-package'])\n",
    "#import spam.blah\n",
    "\n",
    "#import spam.blah\n",
    "#import spam.grok\n",
    "\n",
    "#The feature here is called the namespace package.\n",
    "\n",
    "# The namespace package doesnt contain any __init__.py files\n",
    "\n"
   ]
  },
  {
   "cell_type": "markdown",
   "metadata": {},
   "source": [
    "## Reading datafiles within a package"
   ]
  },
  {
   "cell_type": "code",
   "execution_count": null,
   "metadata": {},
   "outputs": [],
   "source": [
    "#mypackage/\n",
    "#   __init__.py\n",
    "#   somedata.dat\n",
    "#   spam.py\n",
    "\n",
    "# Now if you want to run the file\n",
    "\n",
    "import pkgutil\n",
    "data = pkgutil.get_data(__package__, 'somedata.dat')"
   ]
  },
  {
   "cell_type": "markdown",
   "metadata": {},
   "source": [
    "## Importing Modules Using a Name Given in a string"
   ]
  },
  {
   "cell_type": "code",
   "execution_count": 1,
   "metadata": {},
   "outputs": [],
   "source": [
    "import importlib"
   ]
  },
  {
   "cell_type": "code",
   "execution_count": 2,
   "metadata": {},
   "outputs": [
    {
     "data": {
      "text/plain": [
       "-0.7568024953079282"
      ]
     },
     "execution_count": 2,
     "metadata": {},
     "output_type": "execute_result"
    }
   ],
   "source": [
    "math = importlib.import_module('math')\n",
    "math.sin(4)"
   ]
  },
  {
   "cell_type": "markdown",
   "metadata": {},
   "source": [
    "## Distributing Python Packages"
   ]
  },
  {
   "cell_type": "code",
   "execution_count": null,
   "metadata": {},
   "outputs": [],
   "source": [
    "# If you are going to start giving code away, the first thing to do is to give it a unique name and clean up its directory structure. For example a typical library package might look something like this:\n",
    "\n",
    "\n",
    "#projectname/\n",
    "        README.txt\n",
    "        Doc/\n",
    "            documentation.txt\n",
    "        projectname/\n",
    "            __init__.py\n",
    "            foo.py\n",
    "            bar.py\n",
    "            utils/\n",
    "                __init__.py\n",
    "                spam.py\n",
    "                grok.py\n",
    "        examples/\n",
    "            helloworld.py"
   ]
  },
  {
   "cell_type": "code",
   "execution_count": null,
   "metadata": {},
   "outputs": [],
   "source": [
    "# To make the package something that you can distribute, first write a setup.py file that looks like this:\n",
    "\n",
    "# setup.py\n",
    "from distutils.core import setup\n",
    "\n",
    "\n",
    "setup(name = 'projectname',\n",
    "      version='1.0',\n",
    "      author='Author_name',\n",
    "      author_email='email@email.com',\n",
    "      url = 'www.url.com',\n",
    "      packages = ['projectname','projectname.utils'])\n",
    "\n",
    "\n",
    "# Next create a MANIFEST.in file to list various nonsource files that you want to include in your package\n",
    "\n",
    "\n",
    "# MANIFEST.in\n",
    "include *.txt\n",
    "recursive-include examples *\n",
    "recursive-include Doc *"
   ]
  },
  {
   "cell_type": "code",
   "execution_count": null,
   "metadata": {},
   "outputs": [],
   "source": []
  }
 ],
 "metadata": {
  "kernelspec": {
   "display_name": "Python 3",
   "language": "python",
   "name": "python3"
  },
  "language_info": {
   "codemirror_mode": {
    "name": "ipython",
    "version": 3
   },
   "file_extension": ".py",
   "mimetype": "text/x-python",
   "name": "python",
   "nbconvert_exporter": "python",
   "pygments_lexer": "ipython3",
   "version": "3.10.12"
  },
  "orig_nbformat": 4
 },
 "nbformat": 4,
 "nbformat_minor": 2
}
