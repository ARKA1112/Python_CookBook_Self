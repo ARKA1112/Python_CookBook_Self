{
 "cells": [
  {
   "cell_type": "code",
   "execution_count": 1,
   "metadata": {},
   "outputs": [],
   "source": [
    "# Modules and Packages"
   ]
  },
  {
   "cell_type": "code",
   "execution_count": 2,
   "metadata": {},
   "outputs": [
    {
     "data": {
      "text/plain": [
       "'graphics/\\n    __init__.py\\n    primitive/\\n        __init__.py\\n        line.py\\n        fill.py\\n        text.py\\n    formats/\\n        __init__.py\\n        png.py\\n        jpg.py\\n'"
      ]
     },
     "execution_count": 2,
     "metadata": {},
     "output_type": "execute_result"
    }
   ],
   "source": [
    "## Definitive structure of a package is , every directory should have __init__.py\n",
    "\n",
    "\n",
    "###\n",
    "'''graphics/\n",
    "    __init__.py\n",
    "    primitive/\n",
    "        __init__.py\n",
    "        line.py\n",
    "        fill.py\n",
    "        text.py\n",
    "    formats/\n",
    "        __init__.py\n",
    "        png.py\n",
    "        jpg.py\n",
    "'''"
   ]
  },
  {
   "cell_type": "markdown",
   "metadata": {},
   "source": [
    "## Splitting a Module into Multiple files"
   ]
  },
  {
   "cell_type": "code",
   "execution_count": 3,
   "metadata": {},
   "outputs": [],
   "source": [
    "class A:\n",
    "    def spam(self):\n",
    "        print('A.spam')\n",
    "\n",
    "class B(A):\n",
    "    def bar(self):\n",
    "        print('B.bar')\n",
    "\n",
    "\n",
    "# create a directory called mymodule/\n",
    "#                               __init__.py\n",
    "#                               a.py\n",
    "#                               b.py\n",
    "\n",
    "# in a.py put the class A and in b.py put the class B\n",
    "\n",
    "# In the __init__.py put from .a import A and from .b import  B\n",
    "\n",
    "# Now one can perform import mymodule\n",
    "\n",
    "# Then a = mymodule.A()\n",
    "#      a.spam()\n",
    "\n",
    "# Then b = mymodule.B()\n",
    "#      b.bar()\n"
   ]
  },
  {
   "cell_type": "markdown",
   "metadata": {},
   "source": [
    "## Namespace Package"
   ]
  },
  {
   "cell_type": "code",
   "execution_count": null,
   "metadata": {},
   "outputs": [],
   "source": [
    "#Suppose there are two different packages in two different folders but under the nae spam\n",
    "\n",
    "# foo-package/\n",
    "#   spam/\n",
    "#       blah.py\n",
    "\n",
    "# bar-package/\n",
    "#   spam/\n",
    "#       grok.py\n",
    "\n",
    "\n",
    "#import sys\n",
    "\n",
    "#sys.path.extend(['foo-package', 'bar-package'])\n",
    "#import spam.blah\n",
    "\n",
    "#import spam.blah\n",
    "#import spam.grok\n",
    "\n",
    "#The feature here is called the namespace package.\n",
    "\n",
    "# The namespace package doesnt contain any __init__.py files\n",
    "\n"
   ]
  },
  {
   "cell_type": "markdown",
   "metadata": {},
   "source": [
    "## Reading datafiles within a package"
   ]
  },
  {
   "cell_type": "code",
   "execution_count": null,
   "metadata": {},
   "outputs": [],
   "source": [
    "#mypackage/\n",
    "#   __init__.py\n",
    "#   somedata.dat\n",
    "#   spam.py\n",
    "\n",
    "# Now if you want to run the file\n",
    "\n",
    "import pkgutil\n",
    "data = pkgutil.get_data(__package__, 'somedata.dat')"
   ]
  },
  {
   "cell_type": "code",
   "execution_count": null,
   "metadata": {},
   "outputs": [],
   "source": []
  }
 ],
 "metadata": {
  "kernelspec": {
   "display_name": "Python 3",
   "language": "python",
   "name": "python3"
  },
  "language_info": {
   "codemirror_mode": {
    "name": "ipython",
    "version": 3
   },
   "file_extension": ".py",
   "mimetype": "text/x-python",
   "name": "python",
   "nbconvert_exporter": "python",
   "pygments_lexer": "ipython3",
   "version": "3.10.12"
  },
  "orig_nbformat": 4
 },
 "nbformat": 4,
 "nbformat_minor": 2
}
