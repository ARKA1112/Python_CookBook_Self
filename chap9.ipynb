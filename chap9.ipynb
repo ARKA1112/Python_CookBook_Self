{
 "cells": [
  {
   "cell_type": "markdown",
   "metadata": {},
   "source": [
    "## Metaprogramming"
   ]
  },
  {
   "cell_type": "code",
   "execution_count": 1,
   "metadata": {},
   "outputs": [],
   "source": [
    "## One of the most important mantras of software development is dont repeat yourself. That is nay time you are faced with a problem of creating highly repetitive code it often pays to look for a more elegant solution. In a nutshell metaprogramming is about creating functions and classes whose main goal is to manipulate code. the main features for this include decorators class decorators and metaclasses. However a variety of other useful topics including signature objects execution of code with exec() and inspecting the internals of funcitons and lcasses enter the picture. tThe main purpose of this chapter is to explore varous metaprogramming techniques and to give examples of how they can be used to customize the behavior of Python to your own whims.\n",
    "\n",
    "\n"
   ]
  },
  {
   "cell_type": "markdown",
   "metadata": {},
   "source": [
    "## Putting a Wrapper Around a Function"
   ]
  },
  {
   "cell_type": "code",
   "execution_count": 6,
   "metadata": {},
   "outputs": [],
   "source": [
    "#First create a wrapper using @wraps\n",
    "\n",
    "import time\n",
    "from functools import wraps\n",
    "\n",
    "def timethis(func):\n",
    "    ''' \n",
    "    Decorator that reports the execution time\n",
    "    '''\n",
    "\n",
    "    @wraps(func)\n",
    "    def wrapper(*args, **kwargs):\n",
    "        start = time.time()\n",
    "        result = func(*args, **kwargs)\n",
    "        end = time.time()\n",
    "        print(func.__name__, end-start)\n",
    "        return result\n",
    "    return wrapper"
   ]
  },
  {
   "cell_type": "code",
   "execution_count": 7,
   "metadata": {},
   "outputs": [
    {
     "name": "stdout",
     "output_type": "stream",
     "text": [
      "countdown 0.0809779167175293\n"
     ]
    }
   ],
   "source": [
    "#Here is an exaple of using the decorator\n",
    "\n",
    "@timethis\n",
    "def countdown(n):\n",
    "    while n>0:\n",
    "        n -= 1\n",
    "\n",
    "countdown(1000000)\n"
   ]
  },
  {
   "cell_type": "code",
   "execution_count": 8,
   "metadata": {},
   "outputs": [],
   "source": [
    "#decorator is a function that accepts a funciton as input and returns a new functon as ooutput. Whenever you write a code like this\n",
    "\n",
    "@timethis\n",
    "def countdown(n):\n",
    "    pass\n",
    "\n",
    "#its the same as if you had performed these separate steps:\n",
    "def countdown(n):\n",
    "    pass\n",
    "\n",
    "countdown = timethis(countdown)"
   ]
  },
  {
   "cell_type": "code",
   "execution_count": 36,
   "metadata": {},
   "outputs": [],
   "source": [
    "class A:\n",
    "    @staticmethod\n",
    "    def method(cls):\n",
    "        cls.myvar = 1\n",
    "        return cls.myvar\n",
    "\n",
    "class B:\n",
    "    def method(cls):\n",
    "        pass\n",
    "    method = classmethod(method)"
   ]
  },
  {
   "cell_type": "code",
   "execution_count": 41,
   "metadata": {},
   "outputs": [
    {
     "data": {
      "text/plain": [
       "1"
      ]
     },
     "execution_count": 41,
     "metadata": {},
     "output_type": "execute_result"
    }
   ],
   "source": [
    "c = A()\n",
    "c.method(c)\n",
    "\n",
    "c.myvar"
   ]
  },
  {
   "cell_type": "markdown",
   "metadata": {},
   "source": [
    "## More examples of classmethods and staticmethos"
   ]
  },
  {
   "cell_type": "code",
   "execution_count": 53,
   "metadata": {},
   "outputs": [],
   "source": [
    "class Person:\n",
    "    def __init__(self, name, age):\n",
    "        self.name = name\n",
    "        self.age = age\n",
    "    \n",
    "    @classmethod\n",
    "    def from_birth_year(cls, birth_year):\n",
    "        current_year = 2023\n",
    "        age = current_year - birth_year\n",
    "        return cls(name='Unknown', age = age)\n",
    "\n",
    "\n",
    "p = Person('Arka', 31) #This is the generic initialization method where you supply all the necessary data"
   ]
  },
  {
   "cell_type": "code",
   "execution_count": 50,
   "metadata": {},
   "outputs": [],
   "source": [
    "#However if you dont have the age data, but you have birth year and you want to create the instance of a class from that data, you can use the classmethod to do that like the following example\n",
    "p = Person.from_birth_year(1992)"
   ]
  },
  {
   "cell_type": "code",
   "execution_count": 52,
   "metadata": {},
   "outputs": [
    {
     "data": {
      "text/plain": [
       "'Unknown'"
      ]
     },
     "execution_count": 52,
     "metadata": {},
     "output_type": "execute_result"
    }
   ],
   "source": [
    "# p  is initialized with all the necessary data\n",
    "p.name"
   ]
  },
  {
   "cell_type": "code",
   "execution_count": 55,
   "metadata": {},
   "outputs": [
    {
     "data": {
      "text/plain": [
       "True"
      ]
     },
     "execution_count": 55,
     "metadata": {},
     "output_type": "execute_result"
    }
   ],
   "source": [
    "#example of staticmethod\n",
    "\n",
    "class Person:\n",
    "    def __init__(self, name, age):\n",
    "        self.name = name\n",
    "        self.age = age\n",
    "    \n",
    "    @classmethod\n",
    "    def from_birth_year(cls, birth_year):\n",
    "        current_year = 2023\n",
    "        age = current_year - birth_year\n",
    "        return cls(name='Unknown', age = age)\n",
    "    \n",
    "    @staticmethod\n",
    "    def is_adult(age):\n",
    "        return age>18\n",
    "    \n",
    "\n",
    "p = Person.from_birth_year(1992)\n",
    "p.is_adult(32)  # Doesnot depend on the data of the instance"
   ]
  },
  {
   "cell_type": "markdown",
   "metadata": {},
   "source": [
    "# Preserving Function Metadata 2hen writing decorators"
   ]
  },
  {
   "cell_type": "code",
   "execution_count": 56,
   "metadata": {},
   "outputs": [],
   "source": [
    "import time\n",
    "from functools import wraps\n",
    "\n",
    "\n",
    "def timethis(func):\n",
    "    '''\n",
    "    Decorator that reports the execution time.\n",
    "    '''\n",
    "\n",
    "    @wraps(func)\n",
    "    def wrapper(*args, **kwargs):\n",
    "        start = time.time()\n",
    "        result = func(*args, **kwargs)\n",
    "        end = time.time()\n",
    "        print(f'{func.__name__} executed in {end - start} seconds')\n",
    "        return result\n",
    "\n",
    "    return wrapper\n",
    "\n",
    "\n",
    "@timethis\n",
    "def countdown(n):\n",
    "    '''\n",
    "    Counts down from n to 0\n",
    "    '''\n",
    "    while n>1:\n",
    "        n -= 1\n",
    "        "
   ]
  },
  {
   "cell_type": "code",
   "execution_count": 59,
   "metadata": {},
   "outputs": [
    {
     "name": "stdout",
     "output_type": "stream",
     "text": [
      "countdown executed in 3.814697265625e-06 seconds\n"
     ]
    },
    {
     "data": {
      "text/plain": [
       "'\\n    Counts down from n to 0\\n    '"
      ]
     },
     "execution_count": 59,
     "metadata": {},
     "output_type": "execute_result"
    }
   ],
   "source": [
    "countdown(10)\n",
    "countdown.__name__\n",
    "countdown.__doc__"
   ]
  },
  {
   "cell_type": "markdown",
   "metadata": {},
   "source": [
    "## Unwrapping the decorator"
   ]
  },
  {
   "cell_type": "code",
   "execution_count": 65,
   "metadata": {},
   "outputs": [],
   "source": [
    "countdown.__wrapped__(10)\n",
    " "
   ]
  },
  {
   "cell_type": "markdown",
   "metadata": {},
   "source": [
    "## Defining a decorator that takes arguments"
   ]
  },
  {
   "cell_type": "code",
   "execution_count": 67,
   "metadata": {},
   "outputs": [],
   "source": [
    "from functools import wraps\n",
    "import logging\n",
    "\n",
    "\n",
    "def logged(level, name=None, message=None):\n",
    "    '''\n",
    "    Add logging to a function. Level is the logging level,\n",
    "    name is the logger name, and message is the log message.\n",
    "    If name and message arent specified, They default to the function's\n",
    "    module and name.\n",
    "    '''\n",
    "    def decorate(func):\n",
    "        logname = name if name else func.__module__\n",
    "        log = logging.getLogger(logname)\n",
    "        logmsg = message if message else func.__name__\n",
    "\n",
    "        @wraps(func)\n",
    "        def wrapper(*args, **kwargs):\n",
    "            log.log(level, logmsg)\n",
    "            return func(*args, **kwargs)\n",
    "        return wrapper\n",
    "    return decorate\n",
    "\n",
    "\n",
    "#Example usecase\n",
    "@logged(logging.DEBUG)\n",
    "def add(x,y):\n",
    "    return x+y\n",
    "\n",
    "@logged(logging.CRITICAL, 'example')\n",
    "def spam():\n",
    "    print('Spam!')"
   ]
  },
  {
   "cell_type": "code",
   "execution_count": 71,
   "metadata": {},
   "outputs": [
    {
     "name": "stderr",
     "output_type": "stream",
     "text": [
      "spam\n"
     ]
    },
    {
     "name": "stdout",
     "output_type": "stream",
     "text": [
      "Spam!\n"
     ]
    }
   ],
   "source": [
    "spam()"
   ]
  },
  {
   "cell_type": "markdown",
   "metadata": {},
   "source": [
    "## Defining a decorator that takes and optional argument"
   ]
  },
  {
   "cell_type": "code",
   "execution_count": 78,
   "metadata": {},
   "outputs": [],
   "source": [
    "from functools import wraps, partial\n",
    "import logging\n",
    "\n",
    "\n",
    "\n",
    "def logged(func=None, *, level=logging.DEBUG,name=None, message=None):\n",
    "    if func is None:\n",
    "        return partial(logged, level=level, name=name, message=message)\n",
    "\n",
    "    logname = name if name else func.__module__\n",
    "    log = logging.getLogger(logname)\n",
    "    logmsg = message if message else func.__name__\n",
    "\n",
    "    @wraps(func)\n",
    "    def wrapper(*args, **kwargs):\n",
    "        log.log(level, logmsg)\n",
    "        return func(*args, **kwargs)\n",
    "    return wrapper\n",
    "\n",
    "#Example use\n",
    "\n",
    "@logged      #optional\n",
    "def add(x,y):\n",
    "    return x+y\n",
    "\n",
    "\n",
    "\n",
    "@timethis  #additonal wrapper\n",
    "@logged(level=logging.DEBUG, name='example')  #supplied\n",
    "def spam():\n",
    "    return 'Spam!'"
   ]
  },
  {
   "cell_type": "code",
   "execution_count": 77,
   "metadata": {},
   "outputs": [
    {
     "name": "stdout",
     "output_type": "stream",
     "text": [
      "spam executed in 9.059906005859375e-06 seconds\n"
     ]
    },
    {
     "data": {
      "text/plain": [
       "'Spam!'"
      ]
     },
     "execution_count": 77,
     "metadata": {},
     "output_type": "execute_result"
    }
   ],
   "source": [
    "spam()"
   ]
  },
  {
   "cell_type": "markdown",
   "metadata": {},
   "source": [
    "## Defining decorators as part of the class"
   ]
  },
  {
   "cell_type": "code",
   "execution_count": 87,
   "metadata": {},
   "outputs": [
    {
     "name": "stdout",
     "output_type": "stream",
     "text": [
      "decorator2\n",
      "decorator1\n"
     ]
    }
   ],
   "source": [
    "#You want to declare decorators as part of the class\n",
    "\n",
    "\n",
    "from functools import wraps\n",
    "\n",
    "class A:\n",
    "    def decorator1(self,func):\n",
    "        @wraps(func)\n",
    "        def wrapper(*args, **kwargs):\n",
    "            print('decorator1')\n",
    "            return func(*args, **kwargs)\n",
    "        return wrapper\n",
    "    \n",
    "\n",
    "    @classmethod\n",
    "    def decorator2(cls, func):\n",
    "        @wraps(func)\n",
    "        def wrapper(*args, **kwargs):\n",
    "            print('decorator2')\n",
    "            return func(*args, **kwargs)\n",
    "        return wrapper\n",
    "    \n",
    "\n",
    "\n",
    "#Here is an example of using that decorator with classmethod\n",
    "a = A.decorator2(add)\n",
    "a(1,2)\n",
    "\n",
    "\n",
    "#Otherwise the general method is\n",
    "a = A()\n",
    "\n",
    "@a.decorator1\n",
    "def add(x,y):\n",
    "    return x + y\n",
    "\n",
    "\n",
    "#If we look carefully we will notice that one is applied from an instance a and the other is applied from the class A"
   ]
  },
  {
   "cell_type": "code",
   "execution_count": 90,
   "metadata": {},
   "outputs": [],
   "source": [
    "#The built in property decorator is also a class with decorators\n",
    "\n",
    "\n",
    "class Person:\n",
    "    first_name = property()\n",
    "\n",
    "    @first_name.getter\n",
    "    def first_name(self):\n",
    "        return self._first_name\n",
    "    \n",
    "    @first_name.setter\n",
    "    def first_name(self, value):\n",
    "        if not isinstance(value,str):\n",
    "            raise TypeError(\"Expected a String\")\n",
    "        self._first_name = value"
   ]
  },
  {
   "cell_type": "markdown",
   "metadata": {},
   "source": [
    "## Defining Decorators as Classes"
   ]
  },
  {
   "cell_type": "code",
   "execution_count": 7,
   "metadata": {},
   "outputs": [
    {
     "name": "stdout",
     "output_type": "stream",
     "text": [
      "5\n",
      "1\n"
     ]
    }
   ],
   "source": [
    "## You wnat to wrap functions with decorators as classes\n",
    "\n",
    "\n",
    "import types\n",
    "\n",
    "from functools import wraps\n",
    "\n",
    "\n",
    "class Profiled:\n",
    "    def __init__(self, func):\n",
    "        wraps(func)(self)\n",
    "        self.ncalls = 0\n",
    "\n",
    "    def __call__(self, *args, **kwargs):\n",
    "         self.ncalls += 1\n",
    "         return self.__wrapped__(*args, **kwargs)\n",
    "    \n",
    "    def __get__(self, instance, cls):\n",
    "        if instance is None:\n",
    "            return self\n",
    "        else:\n",
    "            return types.MethodType(self, instance)\n",
    "\n",
    "\n",
    "@Profiled\n",
    "def add(x, y):\n",
    "    return x + y\n",
    "\n",
    "print(add(2, 3))\n",
    "print(add.ncalls)\n",
    "\n",
    "# The decorator\n",
    "\n",
    "\n",
    "\n",
    "class Spam:\n",
    "    @Profiled\n",
    "    def bar(self, x):\n",
    "        print(self, x)"
   ]
  },
  {
   "cell_type": "code",
   "execution_count": 8,
   "metadata": {},
   "outputs": [
    {
     "name": "stdout",
     "output_type": "stream",
     "text": [
      "<__main__.Spam object at 0x7fa9a01180a0> 1\n"
     ]
    }
   ],
   "source": [
    "s = Spam()\n",
    "s.bar(1)"
   ]
  },
  {
   "cell_type": "markdown",
   "metadata": {},
   "source": [
    "## Writing Decorators That Add Arguments to Wrapped Functions"
   ]
  },
  {
   "cell_type": "code",
   "execution_count": 9,
   "metadata": {},
   "outputs": [],
   "source": [
    "from functools import wraps\n",
    "\n",
    "def optional_debug(func):\n",
    "    @wraps(func)   #---wrap the function\n",
    "    def wrapper(*args, debug=False, **kwargs):  #---add optional argument within the function\n",
    "        if debug:\n",
    "            print('Calling', func.__name__) #-----perform action if the condition fulfills\n",
    "        return func(*args, **kwargs)\n",
    "    return wrapper"
   ]
  },
  {
   "cell_type": "code",
   "execution_count": 13,
   "metadata": {},
   "outputs": [],
   "source": [
    "#How this helps\n",
    "\n",
    "def a(x, debug=False):\n",
    "    if debug:\n",
    "        print(\"Calling a\")\n",
    "\n",
    "def b(x,y,z, debug = False):\n",
    "    if debug:\n",
    "        print(\"Calling b\")\n",
    "\n",
    "def c(x,y,debug=False):\n",
    "    if debug:\n",
    "        print(\"calling c\")\n",
    "\n",
    "\n",
    "# instead we do this\n",
    "\n",
    "@optional_debug\n",
    "def a(x):\n",
    "    pass\n",
    "\n"
   ]
  },
  {
   "cell_type": "code",
   "execution_count": 17,
   "metadata": {},
   "outputs": [
    {
     "name": "stdout",
     "output_type": "stream",
     "text": [
      "Calling a\n",
      "Calling b\n",
      "calling c\n"
     ]
    }
   ],
   "source": [
    "a(12,debug=True)\n",
    "b(12,11,19,debug=True)\n",
    "c(3,4,debug=True)"
   ]
  },
  {
   "cell_type": "markdown",
   "metadata": {},
   "source": [
    "## Using Decorators to Patch Class Definitions"
   ]
  },
  {
   "cell_type": "code",
   "execution_count": 21,
   "metadata": {},
   "outputs": [],
   "source": [
    "#implementation\n",
    "\n",
    "def log_getattribute(cls):\n",
    "    # Get the original implementation\n",
    "\n",
    "    orig_implementation = cls.__getattribute__\n",
    "\n",
    "    # Make the new implementation\n",
    "    def new_getatttribute(self, name):\n",
    "        print(\"getting:\",name)\n",
    "        return orig_implementation(self, name)\n",
    "\n",
    "    # Attach to the class and return\n",
    "    cls.__getattribute__ = new_getatttribute\n",
    "    return cls\n",
    "\n",
    "\n",
    "# Example\n",
    "@log_getattribute\n",
    "class A:\n",
    "    def __init__(self):\n",
    "        self.x = 10\n",
    "        self.y = 20\n",
    "\n",
    "    def __getattribute__(self, name):\n",
    "        print(\"getting:\", name)\n",
    "        return object.__getattribute__(self, name)\n",
    "\n",
    "\n"
   ]
  },
  {
   "cell_type": "code",
   "execution_count": 23,
   "metadata": {},
   "outputs": [
    {
     "name": "stdout",
     "output_type": "stream",
     "text": [
      "getting: x\n",
      "getting: x\n"
     ]
    },
    {
     "data": {
      "text/plain": [
       "10"
      ]
     },
     "execution_count": 23,
     "metadata": {},
     "output_type": "execute_result"
    }
   ],
   "source": [
    "a = A()\n",
    "a.x  ## Here it prints two times because it uses both the getattribute methods"
   ]
  },
  {
   "cell_type": "code",
   "execution_count": 25,
   "metadata": {},
   "outputs": [],
   "source": [
    "#Conventional implementation\n",
    "\n",
    "from typing import Any\n",
    "\n",
    "\n",
    "class LoggedGetattribute:\n",
    "    def __getattribute__(self, name):\n",
    "        print('getting:', name)\n",
    "        return super().__getattribute__(name)\n",
    "\n",
    "\n",
    "#Example\n",
    "class A(LoggedGetattribute):\n",
    "    def __init__(self,x):\n",
    "        self.x = x\n",
    "\n",
    "    def spam(self):\n",
    "        pass"
   ]
  },
  {
   "cell_type": "code",
   "execution_count": 31,
   "metadata": {},
   "outputs": [
    {
     "ename": "NameError",
     "evalue": "name 'NoInstances' is not defined",
     "output_type": "error",
     "traceback": [
      "\u001b[0;31m---------------------------------------------------------------------------\u001b[0m",
      "\u001b[0;31mNameError\u001b[0m                                 Traceback (most recent call last)",
      "\u001b[1;32m/home/susearc/Documents/github/Python_CookBook_Self/chap9.ipynb Cell 39\u001b[0m line \u001b[0;36m1\n\u001b[1;32m      <a href='vscode-notebook-cell:/home/susearc/Documents/github/Python_CookBook_Self/chap9.ipynb#X53sZmlsZQ%3D%3D?line=8'>9</a>\u001b[0m         \u001b[39mraise\u001b[39;00m \u001b[39mTypeError\u001b[39;00m(\u001b[39m\"\u001b[39m\u001b[39mCant instantiate directly\u001b[39m\u001b[39m\"\u001b[39m)\n\u001b[1;32m     <a href='vscode-notebook-cell:/home/susearc/Documents/github/Python_CookBook_Self/chap9.ipynb#X53sZmlsZQ%3D%3D?line=10'>11</a>\u001b[0m \u001b[39m# Example\u001b[39;00m\n\u001b[0;32m---> <a href='vscode-notebook-cell:/home/susearc/Documents/github/Python_CookBook_Self/chap9.ipynb#X53sZmlsZQ%3D%3D?line=12'>13</a>\u001b[0m \u001b[39mclass\u001b[39;00m \u001b[39mSpam\u001b[39;00m(metaclass\u001b[39m=\u001b[39mNoInstances):\n\u001b[1;32m     <a href='vscode-notebook-cell:/home/susearc/Documents/github/Python_CookBook_Self/chap9.ipynb#X53sZmlsZQ%3D%3D?line=13'>14</a>\u001b[0m     \u001b[39m@staticmethod\u001b[39m\n\u001b[1;32m     <a href='vscode-notebook-cell:/home/susearc/Documents/github/Python_CookBook_Self/chap9.ipynb#X53sZmlsZQ%3D%3D?line=14'>15</a>\u001b[0m     \u001b[39mdef\u001b[39;00m \u001b[39mgrok\u001b[39m(x):\n\u001b[1;32m     <a href='vscode-notebook-cell:/home/susearc/Documents/github/Python_CookBook_Self/chap9.ipynb#X53sZmlsZQ%3D%3D?line=15'>16</a>\u001b[0m         \u001b[39mprint\u001b[39m(\u001b[39m'\u001b[39m\u001b[39mSpam.grok\u001b[39m\u001b[39m'\u001b[39m)\n",
      "\u001b[0;31mNameError\u001b[0m: name 'NoInstances' is not defined"
     ]
    }
   ],
   "source": [
    "class Spam1:\n",
    "    def __init__(self):\n",
    "        print(self.__class__,\"Initiated\")\n",
    "\n",
    "#However you can customize this with __call__ func\n",
    "\n",
    "class Spam2():\n",
    "    def __call__(self, *args,**kwargs):\n",
    "        raise TypeError(\"Cant instantiate directly\")\n",
    "\n",
    "# Example\n",
    "\n",
    "class Spam(metaclass=NoInstances):\n",
    "    @staticmethod\n",
    "    def grok(x):\n",
    "        print('Spam.grok')\n"
   ]
  },
  {
   "cell_type": "code",
   "execution_count": 29,
   "metadata": {},
   "outputs": [
    {
     "name": "stdout",
     "output_type": "stream",
     "text": [
      "<class '__main__.Spam'> Initiated\n"
     ]
    }
   ],
   "source": [
    "a = Spam1()"
   ]
  },
  {
   "cell_type": "markdown",
   "metadata": {},
   "source": [
    "## Enforcing an Argument Signature on *args and **kwargs"
   ]
  },
  {
   "cell_type": "code",
   "execution_count": 1,
   "metadata": {},
   "outputs": [],
   "source": [
    "from inspect import Signature, Parameter\n",
    "\n",
    "parms = [Parameter('x', Parameter.POSITIONAL_OR_KEYWORD),\n",
    "         Parameter('y', Parameter.POSITIONAL_OR_KEYWORD, default=42),\n",
    "         Parameter('z', Parameter.KEYWORD_ONLY, default=None)]"
   ]
  },
  {
   "cell_type": "code",
   "execution_count": 2,
   "metadata": {},
   "outputs": [
    {
     "name": "stdout",
     "output_type": "stream",
     "text": [
      "(x, y=42, *, z=None)\n"
     ]
    }
   ],
   "source": [
    "sig = Signature(parms)\n",
    "print(sig)\n"
   ]
  },
  {
   "cell_type": "code",
   "execution_count": 3,
   "metadata": {},
   "outputs": [],
   "source": [
    "def func(*args, **kwargs):\n",
    "    bound_values = sig.bind(*args, **kwargs)\n",
    "    for name, value in bound_values.arguments.items():\n",
    "        print(name, value)"
   ]
  },
  {
   "cell_type": "markdown",
   "metadata": {},
   "source": [
    "## Enforcing Coding Conventions in Classes"
   ]
  },
  {
   "cell_type": "code",
   "execution_count": 4,
   "metadata": {},
   "outputs": [],
   "source": [
    "#Your program consists of a large class hierarchy and you would like to enforce certain\n",
    "#kinds of coding conventions (or perform diagnostics) to help maintain programmer\n",
    "#sanity.\n",
    "\n",
    "\n",
    "# If you want to monitor the definition of classes you can ofter do it by defining a metaclass. A basic metaclass is usually define dby inheriting from type and redefining its __new__() method or __init__() method.\n",
    "\n",
    "\n",
    "class MyMeta(type):\n",
    "    def __new__(self, clsname, bases, clsdict):\n",
    "        #clasname is the name of class beign defined\n",
    "        #basese is tuple of base classe\n",
    "        #clsdict is class dictionary\n",
    "\n",
    "        return super().__new__(cls, clsname, bases, clsdict)\n",
    "\n",
    "# Alternatively using __init__()\n",
    "\n",
    "class MyMeta(type):\n",
    "    def __init__(self, clsname, bases, clsdict):\n",
    "        super().__init__(clsname, bases, clsdict)\n",
    "\n",
    "\n",
    "\n",
    "# Example \n",
    "class Root(metaclass=MyMeta):\n",
    "    pass\n",
    "\n",
    "class A(Root):\n",
    "    pass\n",
    "\n",
    "\n",
    "class B(Root):\n",
    "    pass\n"
   ]
  },
  {
   "cell_type": "code",
   "execution_count": 5,
   "metadata": {},
   "outputs": [],
   "source": [
    "import collections\n",
    "\n",
    "Stock = collections.namedtuple('Stock', ['name','shares','price'])"
   ]
  },
  {
   "cell_type": "code",
   "execution_count": 8,
   "metadata": {},
   "outputs": [],
   "source": [
    "a = Stock('GOOG',2, '556')"
   ]
  },
  {
   "cell_type": "code",
   "execution_count": 13,
   "metadata": {},
   "outputs": [],
   "source": [
    "#How to create the named tuples\n",
    "\n",
    "import operator\n",
    "import types\n",
    "import sys\n",
    "\n",
    "\n",
    "def named_tuple(classname, fieldnames):\n",
    "    #Populate a dictionary of field property accessors\n",
    "\n",
    "    cls_dict = {name: property(operator.itemgetter(n)) for n, name in enumerate(fieldnames)}\n",
    "\n",
    "    # Make a __new__ function and add to the class dict\n",
    "\n",
    "    def __new__(cls, *args):\n",
    "        if len(args) != len(fieldnames):\n",
    "            raise TypeError('Expected {} arguments'.formate(len(fieldnames)))\n",
    "        return tuple.__new__(cls, args)\n",
    "    \n",
    "    cls_dict['__new__'] = __new__\n",
    "\n",
    "\n",
    "    # Make the class\n",
    "\n",
    "    cls = types.new_class(classname, (tuple,), {}, lambda ns: ns.update(cls_dict))\n",
    "\n",
    "    #"
   ]
  },
  {
   "cell_type": "code",
   "execution_count": 15,
   "metadata": {},
   "outputs": [],
   "source": [
    "# Performing initialization or setup actions at the time of class definition is a classic use of metaclasses..\n",
    "\n",
    "import operator\n",
    "\n",
    "class StructTupleMeta(type):\n",
    "    def __init__(cls, *args, **kwargs):\n",
    "        super().__init__(*args, **kwargs)\n",
    "        for n, name in enumerate(cls._fields):\n",
    "            setattr(cls, name, property(operator.itemgetter(n)))\n",
    "\n",
    "\n",
    "class StructTuple(tuple, metaclass=StructTupleMeta):\n",
    "    _fields = []\n",
    "    def __new__(cls, *args):\n",
    "        if len(args) !=  len(cls._fields):\n",
    "            raise ValueError('{} argumetns required'.format(len(cls._fields)))\n",
    "        return super().__new__(cls,args)"
   ]
  },
  {
   "cell_type": "code",
   "execution_count": 16,
   "metadata": {},
   "outputs": [],
   "source": [
    "class Stock(StructTuple):\n",
    "    _fields = ['name', 'shares', 'price']\n",
    "\n",
    "\n",
    "class Point(StructTuple):\n",
    "    _fields = ['x', 'y']\n"
   ]
  },
  {
   "cell_type": "code",
   "execution_count": 18,
   "metadata": {},
   "outputs": [
    {
     "data": {
      "text/plain": [
       "'Acme'"
      ]
     },
     "execution_count": 18,
     "metadata": {},
     "output_type": "execute_result"
    }
   ],
   "source": [
    "s = Stock('Acme', 50, 40)\n",
    "s.name"
   ]
  },
  {
   "cell_type": "markdown",
   "metadata": {},
   "source": [
    "## Defining Context Managers the Easy Way"
   ]
  },
  {
   "cell_type": "code",
   "execution_count": 3,
   "metadata": {},
   "outputs": [],
   "source": [
    "import time\n",
    "from contextlib import contextmanager\n",
    "\n",
    "@contextmanager\n",
    "def timethis(label):\n",
    "    start = time.time()\n",
    "    try:\n",
    "        yield\n",
    "    finally:\n",
    "        end = time.time()\n",
    "        print('{}: {}'.format(label, end - start))\n"
   ]
  },
  {
   "cell_type": "code",
   "execution_count": 4,
   "metadata": {},
   "outputs": [
    {
     "name": "stdout",
     "output_type": "stream",
     "text": [
      "counting: 0.02538752555847168\n"
     ]
    }
   ],
   "source": [
    "with timethis('counting'):\n",
    "    n = 100000\n",
    "    while n>0:\n",
    "        n -= 1"
   ]
  },
  {
   "cell_type": "code",
   "execution_count": 5,
   "metadata": {},
   "outputs": [],
   "source": [
    "@contextmanager\n",
    "def list_transaction(orig_list):\n",
    "    working = list(orig_list)\n",
    "    yield working\n",
    "    orig_list[:] = working"
   ]
  },
  {
   "cell_type": "code",
   "execution_count": 7,
   "metadata": {},
   "outputs": [],
   "source": [
    "# Normally t write a context manager you define a class with an __enter__() and __exit__() emthod, like this:\n",
    "import time\n",
    "class timethis:\n",
    "    def __init__(self, label):\n",
    "        self.label = label\n",
    "    def __enter__(self):\n",
    "        self.start = time.time()\n",
    "\n",
    "    def __exit__(self):\n",
    "        self.stop = time.time()"
   ]
  },
  {
   "cell_type": "markdown",
   "metadata": {},
   "source": [
    "## Executing Code with Local Side Effects"
   ]
  },
  {
   "cell_type": "code",
   "execution_count": 9,
   "metadata": {},
   "outputs": [
    {
     "name": "stdout",
     "output_type": "stream",
     "text": [
      "14\n"
     ]
    }
   ],
   "source": [
    "a = 13\n",
    "exec(\"b  = a + 1\")\n",
    "print(b) # works\n",
    "\n",
    "# But if you try it within a funciton\n",
    "\n",
    "def test():\n",
    "    a = 15\n",
    "    exec('b=a+1')\n",
    "    print(b)"
   ]
  },
  {
   "cell_type": "code",
   "execution_count": 11,
   "metadata": {},
   "outputs": [
    {
     "name": "stdout",
     "output_type": "stream",
     "text": [
      "14\n"
     ]
    }
   ],
   "source": [
    "test()"
   ]
  },
  {
   "cell_type": "markdown",
   "metadata": {},
   "source": [
    "## Parsing and  Analyzing Python Source"
   ]
  },
  {
   "cell_type": "code",
   "execution_count": 14,
   "metadata": {},
   "outputs": [
    {
     "name": "stdout",
     "output_type": "stream",
     "text": [
      "0\n",
      "1\n",
      "2\n",
      "3\n",
      "4\n",
      "5\n",
      "6\n",
      "7\n",
      "8\n",
      "9\n"
     ]
    }
   ],
   "source": [
    "#We all know that we can execute a python statement in a string form if supplied to a exec statement\n",
    "\n",
    "\n",
    "x = 42\n",
    "\n",
    "eval('x**2+3*4+5')\n",
    "\n",
    "\n",
    "exec('for i in range(10): print(i)')"
   ]
  },
  {
   "cell_type": "markdown",
   "metadata": {},
   "source": [
    "## Disassembling Python Byte Code"
   ]
  },
  {
   "cell_type": "code",
   "execution_count": 15,
   "metadata": {},
   "outputs": [],
   "source": [
    "# You want to know in detail what your code is doing under the covers by disassembling it into lower-level byte code used by the interpreter"
   ]
  },
  {
   "cell_type": "code",
   "execution_count": 16,
   "metadata": {},
   "outputs": [
    {
     "name": "stdout",
     "output_type": "stream",
     "text": [
      "  5           0 LOAD_FAST                0 (n)\n",
      "              2 LOAD_CONST               1 (0)\n",
      "              4 COMPARE_OP               4 (>)\n",
      "              6 POP_JUMP_IF_FALSE       17 (to 34)\n",
      "\n",
      "  6     >>    8 LOAD_GLOBAL              0 (print)\n",
      "             10 LOAD_CONST               2 ('T-minus')\n",
      "             12 LOAD_FAST                0 (n)\n",
      "             14 CALL_FUNCTION            2\n",
      "             16 POP_TOP\n",
      "\n",
      "  7          18 LOAD_FAST                0 (n)\n",
      "             20 LOAD_CONST               3 (1)\n",
      "             22 INPLACE_SUBTRACT\n",
      "             24 STORE_FAST               0 (n)\n",
      "\n",
      "  5          26 LOAD_FAST                0 (n)\n",
      "             28 LOAD_CONST               1 (0)\n",
      "             30 COMPARE_OP               4 (>)\n",
      "             32 POP_JUMP_IF_TRUE         4 (to 8)\n",
      "\n",
      "  8     >>   34 LOAD_GLOBAL              0 (print)\n",
      "             36 LOAD_CONST               4 ('Blastoff!')\n",
      "             38 CALL_FUNCTION            1\n",
      "             40 POP_TOP\n",
      "             42 LOAD_CONST               0 (None)\n",
      "             44 RETURN_VALUE\n"
     ]
    }
   ],
   "source": [
    "#The dis module can be used to output a disassembly of any python function. For example\n",
    "\n",
    "\n",
    "def countdown(n):\n",
    "    while n>0:\n",
    "        print('T-minus', n)\n",
    "        n -= 1\n",
    "    print('Blastoff!')\n",
    "\n",
    "import dis\n",
    "dis.dis(countdown)\n"
   ]
  },
  {
   "cell_type": "code",
   "execution_count": 17,
   "metadata": {},
   "outputs": [
    {
     "data": {
      "text/plain": [
       "b'|\\x00d\\x01k\\x04r\\x11t\\x00d\\x02|\\x00\\x83\\x02\\x01\\x00|\\x00d\\x038\\x00}\\x00|\\x00d\\x01k\\x04s\\x04t\\x00d\\x04\\x83\\x01\\x01\\x00d\\x00S\\x00'"
      ]
     },
     "execution_count": 17,
     "metadata": {},
     "output_type": "execute_result"
    }
   ],
   "source": [
    "# The raw byte code interpreted by the dis() funciton is available on functions as follows\n",
    "\n",
    "countdown.__code__.co_code"
   ]
  },
  {
   "cell_type": "code",
   "execution_count": 20,
   "metadata": {},
   "outputs": [
    {
     "data": {
      "text/plain": [
       "b'|\\x00|\\x01\\x18\\x00S\\x00'"
      ]
     },
     "execution_count": 20,
     "metadata": {},
     "output_type": "execute_result"
    }
   ],
   "source": [
    "def sub(x,y):\n",
    "    return x-y\n",
    "sub(3,4)\n",
    "sub.__code__.co_code\n",
    "#Using co-code one can extract the byte code of the function\n",
    "\n",
    "\n"
   ]
  },
  {
   "cell_type": "code",
   "execution_count": null,
   "metadata": {},
   "outputs": [],
   "source": []
  }
 ],
 "metadata": {
  "kernelspec": {
   "display_name": "Python 3",
   "language": "python",
   "name": "python3"
  },
  "language_info": {
   "codemirror_mode": {
    "name": "ipython",
    "version": 3
   },
   "file_extension": ".py",
   "mimetype": "text/x-python",
   "name": "python",
   "nbconvert_exporter": "python",
   "pygments_lexer": "ipython3",
   "version": "3.10.12"
  },
  "orig_nbformat": 4
 },
 "nbformat": 4,
 "nbformat_minor": 2
}
