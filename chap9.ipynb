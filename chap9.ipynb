{
 "cells": [
  {
   "cell_type": "markdown",
   "metadata": {},
   "source": [
    "## Metaprogramming"
   ]
  },
  {
   "cell_type": "code",
   "execution_count": 1,
   "metadata": {},
   "outputs": [],
   "source": [
    "## One of the most important mantras of software development is dont repeat yourself. That is nay time you are faced with a problem of creating highly repetitive code it often pays to look for a more elegant solution. In a nutshell metaprogramming is about creating functions and classes whose main goal is to manipulate code. the main features for this include decorators class decorators and metaclasses. However a variety of other useful topics including signature objects execution of code with exec() and inspecting the internals of funcitons and lcasses enter the picture. tThe main purpose of this chapter is to explore varous metaprogramming techniques and to give examples of how they can be used to customize the behavior of Python to your own whims.\n",
    "\n",
    "\n"
   ]
  },
  {
   "cell_type": "markdown",
   "metadata": {},
   "source": [
    "## Putting a Wrapper Around a Function"
   ]
  },
  {
   "cell_type": "code",
   "execution_count": 6,
   "metadata": {},
   "outputs": [],
   "source": [
    "#First create a wrapper using @wraps\n",
    "\n",
    "import time\n",
    "from functools import wraps\n",
    "\n",
    "def timethis(func):\n",
    "    ''' \n",
    "    Decorator that reports the execution time\n",
    "    '''\n",
    "\n",
    "    @wraps(func)\n",
    "    def wrapper(*args, **kwargs):\n",
    "        start = time.time()\n",
    "        result = func(*args, **kwargs)\n",
    "        end = time.time()\n",
    "        print(func.__name__, end-start)\n",
    "        return result\n",
    "    return wrapper"
   ]
  },
  {
   "cell_type": "code",
   "execution_count": 7,
   "metadata": {},
   "outputs": [
    {
     "name": "stdout",
     "output_type": "stream",
     "text": [
      "countdown 0.0809779167175293\n"
     ]
    }
   ],
   "source": [
    "#Here is an exaple of using the decorator\n",
    "\n",
    "@timethis\n",
    "def countdown(n):\n",
    "    while n>0:\n",
    "        n -= 1\n",
    "\n",
    "countdown(1000000)\n"
   ]
  },
  {
   "cell_type": "code",
   "execution_count": 8,
   "metadata": {},
   "outputs": [],
   "source": [
    "#decorator is a function that accepts a funciton as input and returns a new functon as ooutput. Whenever you write a code like this\n",
    "\n",
    "@timethis\n",
    "def countdown(n):\n",
    "    pass\n",
    "\n",
    "#its the same as if you had performed these separate steps:\n",
    "def countdown(n):\n",
    "    pass\n",
    "\n",
    "countdown = timethis(countdown)"
   ]
  },
  {
   "cell_type": "code",
   "execution_count": 36,
   "metadata": {},
   "outputs": [],
   "source": [
    "class A:\n",
    "    @staticmethod\n",
    "    def method(cls):\n",
    "        cls.myvar = 1\n",
    "        return cls.myvar\n",
    "\n",
    "class B:\n",
    "    def method(cls):\n",
    "        pass\n",
    "    method = classmethod(method)"
   ]
  },
  {
   "cell_type": "code",
   "execution_count": 41,
   "metadata": {},
   "outputs": [
    {
     "data": {
      "text/plain": [
       "1"
      ]
     },
     "execution_count": 41,
     "metadata": {},
     "output_type": "execute_result"
    }
   ],
   "source": [
    "c = A()\n",
    "c.method(c)\n",
    "\n",
    "c.myvar"
   ]
  },
  {
   "cell_type": "markdown",
   "metadata": {},
   "source": [
    "## More examples of classmethods and staticmethos"
   ]
  },
  {
   "cell_type": "code",
   "execution_count": 53,
   "metadata": {},
   "outputs": [],
   "source": [
    "class Person:\n",
    "    def __init__(self, name, age):\n",
    "        self.name = name\n",
    "        self.age = age\n",
    "    \n",
    "    @classmethod\n",
    "    def from_birth_year(cls, birth_year):\n",
    "        current_year = 2023\n",
    "        age = current_year - birth_year\n",
    "        return cls(name='Unknown', age = age)\n",
    "\n",
    "\n",
    "p = Person('Arka', 31) #This is the generic initialization method where you supply all the necessary data"
   ]
  },
  {
   "cell_type": "code",
   "execution_count": 50,
   "metadata": {},
   "outputs": [],
   "source": [
    "#However if you dont have the age data, but you have birth year and you want to create the instance of a class from that data, you can use the classmethod to do that like the following example\n",
    "p = Person.from_birth_year(1992)"
   ]
  },
  {
   "cell_type": "code",
   "execution_count": 52,
   "metadata": {},
   "outputs": [
    {
     "data": {
      "text/plain": [
       "'Unknown'"
      ]
     },
     "execution_count": 52,
     "metadata": {},
     "output_type": "execute_result"
    }
   ],
   "source": [
    "# p  is initialized with all the necessary data\n",
    "p.name"
   ]
  },
  {
   "cell_type": "code",
   "execution_count": 55,
   "metadata": {},
   "outputs": [
    {
     "data": {
      "text/plain": [
       "True"
      ]
     },
     "execution_count": 55,
     "metadata": {},
     "output_type": "execute_result"
    }
   ],
   "source": [
    "#example of staticmethod\n",
    "\n",
    "class Person:\n",
    "    def __init__(self, name, age):\n",
    "        self.name = name\n",
    "        self.age = age\n",
    "    \n",
    "    @classmethod\n",
    "    def from_birth_year(cls, birth_year):\n",
    "        current_year = 2023\n",
    "        age = current_year - birth_year\n",
    "        return cls(name='Unknown', age = age)\n",
    "    \n",
    "    @staticmethod\n",
    "    def is_adult(age):\n",
    "        return age>18\n",
    "    \n",
    "\n",
    "p = Person.from_birth_year(1992)\n",
    "p.is_adult(32)  # Doesnot depend on the data of the instance"
   ]
  },
  {
   "cell_type": "markdown",
   "metadata": {},
   "source": [
    "# Preserving Function Metadata 2hen writing decorators"
   ]
  },
  {
   "cell_type": "code",
   "execution_count": 56,
   "metadata": {},
   "outputs": [],
   "source": [
    "import time\n",
    "from functools import wraps\n",
    "\n",
    "\n",
    "def timethis(func):\n",
    "    '''\n",
    "    Decorator that reports the execution time.\n",
    "    '''\n",
    "\n",
    "    @wraps(func)\n",
    "    def wrapper(*args, **kwargs):\n",
    "        start = time.time()\n",
    "        result = func(*args, **kwargs)\n",
    "        end = time.time()\n",
    "        print(f'{func.__name__} executed in {end - start} seconds')\n",
    "        return result\n",
    "\n",
    "    return wrapper\n",
    "\n",
    "\n",
    "@timethis\n",
    "def countdown(n):\n",
    "    '''\n",
    "    Counts down from n to 0\n",
    "    '''\n",
    "    while n>1:\n",
    "        n -= 1\n",
    "        "
   ]
  },
  {
   "cell_type": "code",
   "execution_count": 59,
   "metadata": {},
   "outputs": [
    {
     "name": "stdout",
     "output_type": "stream",
     "text": [
      "countdown executed in 3.814697265625e-06 seconds\n"
     ]
    },
    {
     "data": {
      "text/plain": [
       "'\\n    Counts down from n to 0\\n    '"
      ]
     },
     "execution_count": 59,
     "metadata": {},
     "output_type": "execute_result"
    }
   ],
   "source": [
    "countdown(10)\n",
    "countdown.__name__\n",
    "countdown.__doc__"
   ]
  },
  {
   "cell_type": "markdown",
   "metadata": {},
   "source": [
    "## Unwrapping the decorator"
   ]
  },
  {
   "cell_type": "code",
   "execution_count": 65,
   "metadata": {},
   "outputs": [],
   "source": [
    "countdown.__wrapped__(10)\n",
    " "
   ]
  },
  {
   "cell_type": "markdown",
   "metadata": {},
   "source": [
    "## Defining a decorator that takes arguments"
   ]
  },
  {
   "cell_type": "code",
   "execution_count": 67,
   "metadata": {},
   "outputs": [],
   "source": [
    "from functools import wraps\n",
    "import logging\n",
    "\n",
    "\n",
    "def logged(level, name=None, message=None):\n",
    "    '''\n",
    "    Add logging to a function. Level is the logging level,\n",
    "    name is the logger name, and message is the log message.\n",
    "    If name and message arent specified, They default to the function's\n",
    "    module and name.\n",
    "    '''\n",
    "    def decorate(func):\n",
    "        logname = name if name else func.__module__\n",
    "        log = logging.getLogger(logname)\n",
    "        logmsg = message if message else func.__name__\n",
    "\n",
    "        @wraps(func)\n",
    "        def wrapper(*args, **kwargs):\n",
    "            log.log(level, logmsg)\n",
    "            return func(*args, **kwargs)\n",
    "        return wrapper\n",
    "    return decorate\n",
    "\n",
    "\n",
    "#Example usecase\n",
    "@logged(logging.DEBUG)\n",
    "def add(x,y):\n",
    "    return x+y\n",
    "\n",
    "@logged(logging.CRITICAL, 'example')\n",
    "def spam():\n",
    "    print('Spam!')"
   ]
  },
  {
   "cell_type": "code",
   "execution_count": 71,
   "metadata": {},
   "outputs": [
    {
     "name": "stderr",
     "output_type": "stream",
     "text": [
      "spam\n"
     ]
    },
    {
     "name": "stdout",
     "output_type": "stream",
     "text": [
      "Spam!\n"
     ]
    }
   ],
   "source": [
    "spam()"
   ]
  },
  {
   "cell_type": "markdown",
   "metadata": {},
   "source": [
    "## Defining a decorator that takes and optional argument"
   ]
  },
  {
   "cell_type": "code",
   "execution_count": 78,
   "metadata": {},
   "outputs": [],
   "source": [
    "from functools import wraps, partial\n",
    "import logging\n",
    "\n",
    "\n",
    "\n",
    "def logged(func=None, *, level=logging.DEBUG,name=None, message=None):\n",
    "    if func is None:\n",
    "        return partial(logged, level=level, name=name, message=message)\n",
    "\n",
    "    logname = name if name else func.__module__\n",
    "    log = logging.getLogger(logname)\n",
    "    logmsg = message if message else func.__name__\n",
    "\n",
    "    @wraps(func)\n",
    "    def wrapper(*args, **kwargs):\n",
    "        log.log(level, logmsg)\n",
    "        return func(*args, **kwargs)\n",
    "    return wrapper\n",
    "\n",
    "#Example use\n",
    "\n",
    "@logged      #optional\n",
    "def add(x,y):\n",
    "    return x+y\n",
    "\n",
    "\n",
    "\n",
    "@timethis  #additonal wrapper\n",
    "@logged(level=logging.DEBUG, name='example')  #supplied\n",
    "def spam():\n",
    "    return 'Spam!'"
   ]
  },
  {
   "cell_type": "code",
   "execution_count": 77,
   "metadata": {},
   "outputs": [
    {
     "name": "stdout",
     "output_type": "stream",
     "text": [
      "spam executed in 9.059906005859375e-06 seconds\n"
     ]
    },
    {
     "data": {
      "text/plain": [
       "'Spam!'"
      ]
     },
     "execution_count": 77,
     "metadata": {},
     "output_type": "execute_result"
    }
   ],
   "source": [
    "spam()"
   ]
  },
  {
   "cell_type": "markdown",
   "metadata": {},
   "source": [
    "## Defining decorators as part of the class"
   ]
  },
  {
   "cell_type": "code",
   "execution_count": 87,
   "metadata": {},
   "outputs": [
    {
     "name": "stdout",
     "output_type": "stream",
     "text": [
      "decorator2\n",
      "decorator1\n"
     ]
    }
   ],
   "source": [
    "#You want to declare decorators as part of the class\n",
    "\n",
    "\n",
    "from functools import wraps\n",
    "\n",
    "class A:\n",
    "    def decorator1(self,func):\n",
    "        @wraps(func)\n",
    "        def wrapper(*args, **kwargs):\n",
    "            print('decorator1')\n",
    "            return func(*args, **kwargs)\n",
    "        return wrapper\n",
    "    \n",
    "\n",
    "    @classmethod\n",
    "    def decorator2(cls, func):\n",
    "        @wraps(func)\n",
    "        def wrapper(*args, **kwargs):\n",
    "            print('decorator2')\n",
    "            return func(*args, **kwargs)\n",
    "        return wrapper\n",
    "    \n",
    "\n",
    "\n",
    "#Here is an example of using that decorator with classmethod\n",
    "a = A.decorator2(add)\n",
    "a(1,2)\n",
    "\n",
    "\n",
    "#Otherwise the general method is\n",
    "a = A()\n",
    "\n",
    "@a.decorator1\n",
    "def add(x,y):\n",
    "    return x + y\n",
    "\n",
    "\n",
    "#If we look carefully we will notice that one is applied from an instance a and the other is applied from the class A"
   ]
  },
  {
   "cell_type": "code",
   "execution_count": 90,
   "metadata": {},
   "outputs": [],
   "source": [
    "#The built in property decorator is also a class with decorators\n",
    "\n",
    "\n",
    "class Person:\n",
    "    first_name = property()\n",
    "\n",
    "    @first_name.getter\n",
    "    def first_name(self):\n",
    "        return self._first_name\n",
    "    \n",
    "    @first_name.setter\n",
    "    def first_name(self, value):\n",
    "        if not isinstance(value,str):\n",
    "            raise TypeError(\"Expected a String\")\n",
    "        self._first_name = value"
   ]
  },
  {
   "cell_type": "markdown",
   "metadata": {},
   "source": [
    "## Defining Decorators as Classes"
   ]
  },
  {
   "cell_type": "code",
   "execution_count": 7,
   "metadata": {},
   "outputs": [
    {
     "name": "stdout",
     "output_type": "stream",
     "text": [
      "5\n",
      "1\n"
     ]
    }
   ],
   "source": [
    "## You wnat to wrap functions with decorators as classes\n",
    "\n",
    "\n",
    "import types\n",
    "\n",
    "from functools import wraps\n",
    "\n",
    "\n",
    "class Profiled:\n",
    "    def __init__(self, func):\n",
    "        wraps(func)(self)\n",
    "        self.ncalls = 0\n",
    "\n",
    "    def __call__(self, *args, **kwargs):\n",
    "         self.ncalls += 1\n",
    "         return self.__wrapped__(*args, **kwargs)\n",
    "    \n",
    "    def __get__(self, instance, cls):\n",
    "        if instance is None:\n",
    "            return self\n",
    "        else:\n",
    "            return types.MethodType(self, instance)\n",
    "\n",
    "\n",
    "@Profiled\n",
    "def add(x, y):\n",
    "    return x + y\n",
    "\n",
    "print(add(2, 3))\n",
    "print(add.ncalls)\n",
    "\n",
    "# The decorator\n",
    "\n",
    "\n",
    "\n",
    "class Spam:\n",
    "    @Profiled\n",
    "    def bar(self, x):\n",
    "        print(self, x)"
   ]
  },
  {
   "cell_type": "code",
   "execution_count": 8,
   "metadata": {},
   "outputs": [
    {
     "name": "stdout",
     "output_type": "stream",
     "text": [
      "<__main__.Spam object at 0x7fa9a01180a0> 1\n"
     ]
    }
   ],
   "source": [
    "s = Spam()\n",
    "s.bar(1)"
   ]
  },
  {
   "cell_type": "code",
   "execution_count": null,
   "metadata": {},
   "outputs": [],
   "source": []
  }
 ],
 "metadata": {
  "kernelspec": {
   "display_name": "Python 3",
   "language": "python",
   "name": "python3"
  },
  "language_info": {
   "codemirror_mode": {
    "name": "ipython",
    "version": 3
   },
   "file_extension": ".py",
   "mimetype": "text/x-python",
   "name": "python",
   "nbconvert_exporter": "python",
   "pygments_lexer": "ipython3",
   "version": "3.10.12"
  },
  "orig_nbformat": 4
 },
 "nbformat": 4,
 "nbformat_minor": 2
}
