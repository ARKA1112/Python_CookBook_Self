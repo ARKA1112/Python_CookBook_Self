{
 "cells": [
  {
   "attachments": {},
   "cell_type": "markdown",
   "metadata": {},
   "source": [
    "Iterators and Generators"
   ]
  },
  {
   "attachments": {},
   "cell_type": "markdown",
   "metadata": {},
   "source": [
    "Manually Consuming an Iterator"
   ]
  },
  {
   "cell_type": "code",
   "execution_count": null,
   "metadata": {},
   "outputs": [],
   "source": [
    "with open('/etc/passwd') as f:\n",
    "    try:\n",
    "        while True:\n",
    "            line = next(f)\n",
    "            print(line, end='')\n",
    "    except StopIteration:\n",
    "        pass"
   ]
  },
  {
   "cell_type": "code",
   "execution_count": null,
   "metadata": {},
   "outputs": [],
   "source": [
    "#one can also instruct it to return a terminating value,\n",
    "\n",
    "\n",
    "with open('/etc/passwd') as f:\n",
    "    while True:\n",
    "        line = next(f, None)\n",
    "        if line is None:\n",
    "            break\n",
    "        print(line, end='')"
   ]
  },
  {
   "cell_type": "code",
   "execution_count": 3,
   "metadata": {},
   "outputs": [
    {
     "data": {
      "text/plain": [
       "1"
      ]
     },
     "execution_count": 3,
     "metadata": {},
     "output_type": "execute_result"
    }
   ],
   "source": [
    "#also \n",
    "\n",
    "items = [1,2,4]\n",
    "it = iter(items)\n",
    "next(it)"
   ]
  },
  {
   "cell_type": "code",
   "execution_count": 4,
   "metadata": {},
   "outputs": [
    {
     "data": {
      "text/plain": [
       "2"
      ]
     },
     "execution_count": 4,
     "metadata": {},
     "output_type": "execute_result"
    }
   ],
   "source": [
    "next(it)"
   ]
  },
  {
   "attachments": {},
   "cell_type": "markdown",
   "metadata": {},
   "source": [
    "Delegating Iteration"
   ]
  },
  {
   "cell_type": "code",
   "execution_count": 6,
   "metadata": {},
   "outputs": [],
   "source": [
    "#You have built a custom conatiner object that internally holds a list, tuple or some other iteratble. You would like to make iteration work with your new container."
   ]
  },
  {
   "cell_type": "code",
   "execution_count": 7,
   "metadata": {},
   "outputs": [],
   "source": [
    "class Node:\n",
    "    def __init__(self, value):\n",
    "        self._value = value\n",
    "        self._children = []\n",
    "\n",
    "    def __repr__(self) -> str:\n",
    "        return 'Node({!r})'.format(self._value)\n",
    "    \n",
    "    def add_child(self, node):\n",
    "        self._children.append(node)\n",
    "\n",
    "    def __iter__(self):\n",
    "        return iter(self._children)"
   ]
  },
  {
   "cell_type": "code",
   "execution_count": 9,
   "metadata": {},
   "outputs": [],
   "source": [
    "nn = Node(12)"
   ]
  },
  {
   "cell_type": "code",
   "execution_count": 15,
   "metadata": {},
   "outputs": [],
   "source": [
    "n1 = Node(13)"
   ]
  },
  {
   "cell_type": "code",
   "execution_count": 16,
   "metadata": {},
   "outputs": [],
   "source": [
    "nn.add_child(n1)"
   ]
  },
  {
   "cell_type": "code",
   "execution_count": 17,
   "metadata": {},
   "outputs": [
    {
     "data": {
      "text/plain": [
       "Node(12)"
      ]
     },
     "execution_count": 17,
     "metadata": {},
     "output_type": "execute_result"
    }
   ],
   "source": [
    "nn"
   ]
  },
  {
   "cell_type": "code",
   "execution_count": 18,
   "metadata": {},
   "outputs": [
    {
     "name": "stdout",
     "output_type": "stream",
     "text": [
      "12\n",
      "13\n",
      "Node(13)\n"
     ]
    }
   ],
   "source": [
    "for i in nn:\n",
    "    print(i)"
   ]
  },
  {
   "cell_type": "code",
   "execution_count": 61,
   "metadata": {},
   "outputs": [],
   "source": [
    "def frange(start, stop, increment=0):\n",
    "    try:    \n",
    "        while(start<stop):\n",
    "            if (increment == 0):\n",
    "               print(\"increment must be greater than one\")\n",
    "            else:\n",
    "                yield start\n",
    "                start+=increment\n",
    "        yield stop\n",
    "    except StopIteration:\n",
    "        pass"
   ]
  },
  {
   "cell_type": "code",
   "execution_count": 48,
   "metadata": {},
   "outputs": [
    {
     "data": {
      "text/plain": [
       "<generator object frange at 0x7f2ab164aa40>"
      ]
     },
     "execution_count": 48,
     "metadata": {},
     "output_type": "execute_result"
    }
   ],
   "source": [
    "frange(1,10,2)"
   ]
  },
  {
   "cell_type": "code",
   "execution_count": 64,
   "metadata": {},
   "outputs": [],
   "source": [
    "I = frange(2,33,4)"
   ]
  },
  {
   "cell_type": "code",
   "execution_count": 65,
   "metadata": {},
   "outputs": [
    {
     "name": "stdout",
     "output_type": "stream",
     "text": [
      "2\n",
      "6\n",
      "10\n",
      "14\n",
      "18\n",
      "22\n",
      "26\n",
      "30\n",
      "33\n"
     ]
    }
   ],
   "source": [
    "for i in I:\n",
    "    print(i)"
   ]
  },
  {
   "cell_type": "code",
   "execution_count": 1,
   "metadata": {},
   "outputs": [],
   "source": [
    "#Pythons iterator protocol requires __iter__() to return a special iterator object that implements a __next__() operation and uses a StopIteration exception to signal completion.However implementing such objects can often be a messy affair. For example the following code shows an alternative implementation of the depth_first() method using an associated iterator class:\n",
    "\n",
    "\n",
    "\n",
    "class Node:\n",
    "    def __init__(self,value):\n",
    "        self._value = value\n",
    "        self._children = []\n",
    "\n",
    "    def __repr__(self):\n",
    "        return 'Node({!r})'.format(self._value)\n",
    "    \n",
    "    def add_child(self,other_node):\n",
    "        self._children.append(other_node)\n",
    "\n",
    "    def __iter__(self):\n",
    "        return iter(self._children)\n",
    "    \n",
    "    def depth_first(self):\n",
    "        return DepthFirstIterator(self)\n",
    "    \n",
    "\n",
    "class DepthFirstIterator(object):\n",
    "    '''Depth first traversal'''\n",
    "\n",
    "    def __init__(self, start_node):\n",
    "        self._node = start_node\n",
    "        self._children_iter =  None\n",
    "        self._child_iter = None\n",
    "\n",
    "    def __iter__(self):\n",
    "        return self\n",
    "    \n",
    "    def __next__(self):\n",
    "        #return myself if just sarted; create an iterator for children\n",
    "        if self._child_iter is None:\n",
    "            self._children_iter = iter(self._node)\n",
    "            return self._node\n",
    "        \n",
    "        #If processing a child, return its next item\n",
    "        elif self._child_iter:\n",
    "            try:\n",
    "                nextchild = next(self._child_iter)\n",
    "                return nextchild\n",
    "            except StopIteration:\n",
    "                self._child_iter = None\n",
    "                return next(self)\n",
    "        \n",
    "        #Advance to the next child and start its iteration\n",
    "\n",
    "        else:\n",
    "            self._child_iter = next(self._children_iter).depth_first()\n",
    "            return next(self)"
   ]
  },
  {
   "attachments": {},
   "cell_type": "markdown",
   "metadata": {},
   "source": [
    "Iterating in Reverse"
   ]
  },
  {
   "cell_type": "code",
   "execution_count": 2,
   "metadata": {},
   "outputs": [],
   "source": [
    "a = [i for i in range(10,1,-2)]"
   ]
  },
  {
   "cell_type": "code",
   "execution_count": 3,
   "metadata": {},
   "outputs": [
    {
     "name": "stdout",
     "output_type": "stream",
     "text": [
      "2\n",
      "4\n",
      "6\n",
      "8\n",
      "10\n"
     ]
    }
   ],
   "source": [
    "for x in reversed(a):\n",
    "    print(x)"
   ]
  },
  {
   "cell_type": "code",
   "execution_count": 4,
   "metadata": {},
   "outputs": [],
   "source": [
    "class Countdown:\n",
    "    def __init__(self, start):\n",
    "        self.start  = start\n",
    "    \n",
    "    #forward iterator\n",
    "    def __iter__(self):\n",
    "        n = self.start\n",
    "        while n>0:\n",
    "            yield n\n",
    "            n -= 1\n",
    "\n",
    "    #backward iterator\n",
    "    def __reversed__(self):\n",
    "        n = 1\n",
    "        while n<=self.start:\n",
    "            yield n\n",
    "            n += 1"
   ]
  },
  {
   "cell_type": "code",
   "execution_count": 5,
   "metadata": {},
   "outputs": [],
   "source": [
    "c = Countdown(12)"
   ]
  },
  {
   "cell_type": "code",
   "execution_count": 7,
   "metadata": {},
   "outputs": [
    {
     "name": "stdout",
     "output_type": "stream",
     "text": [
      "1\n",
      "2\n",
      "3\n",
      "4\n",
      "5\n",
      "6\n",
      "7\n",
      "8\n",
      "9\n",
      "10\n",
      "11\n",
      "12\n"
     ]
    }
   ],
   "source": [
    "for i in reversed(c):\n",
    "    print(i)"
   ]
  },
  {
   "attachments": {},
   "cell_type": "markdown",
   "metadata": {},
   "source": [
    "Defining Generator Functions with Extra State"
   ]
  },
  {
   "cell_type": "code",
   "execution_count": 8,
   "metadata": {},
   "outputs": [],
   "source": [
    "#If you want a generator to expose extra state to the user, dont forget that you can easily implement it as a class putting the generator function code in the __iter__() method.\n",
    "\n",
    "from collections import deque\n",
    "\n",
    "class LineHistory:\n",
    "    def __init__(self,lines, histlen=3) -> None:\n",
    "        self.lines = lines\n",
    "        self.history = deque(maxlen=histlen)\n",
    "\n",
    "    def __iter__(self):\n",
    "        for lineno, line in enumerate(self.lines, 1):\n",
    "            self.history.append((lineno, line))\n",
    "            yield line\n",
    "\n",
    "    def clear(self):\n",
    "        self.history.clear()"
   ]
  },
  {
   "cell_type": "code",
   "execution_count": 11,
   "metadata": {},
   "outputs": [],
   "source": [
    "#To use this class, you would treat it like a normal generator function. However, since it creates an instance, you can access internal attributes or the clear() method. For example:\n",
    "\n",
    "with open(\"somefile.txt\",'w+') as f:\n",
    "    lines  = LineHistory(f)\n",
    "    for line in lines:\n",
    "        if 'python' in line:\n",
    "            for lineno, hline in lines.history:\n",
    "                print('{}:{}'.format(lineno, hline), end = '')"
   ]
  },
  {
   "attachments": {},
   "cell_type": "markdown",
   "metadata": {},
   "source": [
    "Discussion"
   ]
  },
  {
   "cell_type": "code",
   "execution_count": 16,
   "metadata": {},
   "outputs": [
    {
     "ename": "TypeError",
     "evalue": "'LineHistory' object is not an iterator",
     "output_type": "error",
     "traceback": [
      "\u001b[0;31m---------------------------------------------------------------------------\u001b[0m",
      "\u001b[0;31mTypeError\u001b[0m                                 Traceback (most recent call last)",
      "Cell \u001b[0;32mIn [16], line 8\u001b[0m\n\u001b[1;32m      6\u001b[0m f \u001b[39m=\u001b[39m \u001b[39mopen\u001b[39m(\u001b[39m'\u001b[39m\u001b[39msomefile.txt\u001b[39m\u001b[39m'\u001b[39m)\n\u001b[1;32m      7\u001b[0m lines \u001b[39m=\u001b[39m LineHistory(f)\n\u001b[0;32m----> 8\u001b[0m \u001b[39mnext\u001b[39;49m(lines)\n",
      "\u001b[0;31mTypeError\u001b[0m: 'LineHistory' object is not an iterator"
     ]
    }
   ],
   "source": [
    "#With generators, it is easy to fall into a trap of trying to do everything with finctions alone. this can lead to rather complicated code if the generator function needs to interact with other parts of your program in unusual ways(exposing attributes, allowing control via method calls, etc). If this is the case, just use a class definition, as shown. Defining your generator in the __iter__() method doestnt change anything about how your algorithm. the fact that its part of a class makes it easy for you to provide attributes and methods for users to interact with.\n",
    "\n",
    "\n",
    "#One potential subtlety with the method shown is that it might require and extra step of calling iter() if you are going to drive iteration using a technique other that a for loop\n",
    "\n",
    "f = open('somefile.txt')\n",
    "lines = LineHistory(f)\n",
    "next(lines)"
   ]
  },
  {
   "cell_type": "code",
   "execution_count": 14,
   "metadata": {},
   "outputs": [],
   "source": [
    "f.close()"
   ]
  },
  {
   "cell_type": "code",
   "execution_count": 17,
   "metadata": {},
   "outputs": [
    {
     "data": {
      "text/plain": [
       "'hello world\\n'"
      ]
     },
     "execution_count": 17,
     "metadata": {},
     "output_type": "execute_result"
    }
   ],
   "source": [
    "#call iter() first, then start iterating\n",
    "\n",
    "it = iter(lines)\n",
    "\n",
    "next(it)"
   ]
  },
  {
   "cell_type": "code",
   "execution_count": 18,
   "metadata": {},
   "outputs": [
    {
     "data": {
      "text/plain": [
       "'this is a test'"
      ]
     },
     "execution_count": 18,
     "metadata": {},
     "output_type": "execute_result"
    }
   ],
   "source": [
    "next(it)"
   ]
  },
  {
   "attachments": {},
   "cell_type": "markdown",
   "metadata": {},
   "source": [
    "Taking a Slice of an Iterator"
   ]
  },
  {
   "cell_type": "code",
   "execution_count": 19,
   "metadata": {},
   "outputs": [],
   "source": [
    "#You want to take a slice of data produced by an iterator, but the normal slicing operator doesnt work."
   ]
  },
  {
   "cell_type": "code",
   "execution_count": 20,
   "metadata": {},
   "outputs": [],
   "source": [
    "#The itertools.islice() function is perfecty suited for taking slices of iterators and generators. For example:\n",
    "\n",
    "\n",
    "def count(n):\n",
    "    while True:\n",
    "        yield n\n",
    "        n+=1\n",
    "        "
   ]
  },
  {
   "cell_type": "code",
   "execution_count": 21,
   "metadata": {},
   "outputs": [],
   "source": [
    "c = count(34)"
   ]
  },
  {
   "cell_type": "code",
   "execution_count": 22,
   "metadata": {},
   "outputs": [
    {
     "ename": "TypeError",
     "evalue": "'generator' object is not subscriptable",
     "output_type": "error",
     "traceback": [
      "\u001b[0;31m---------------------------------------------------------------------------\u001b[0m",
      "\u001b[0;31mTypeError\u001b[0m                                 Traceback (most recent call last)",
      "Cell \u001b[0;32mIn [22], line 1\u001b[0m\n\u001b[0;32m----> 1\u001b[0m c[\u001b[39m10\u001b[39;49m:\u001b[39m20\u001b[39;49m]\n",
      "\u001b[0;31mTypeError\u001b[0m: 'generator' object is not subscriptable"
     ]
    }
   ],
   "source": [
    "c[10:20]"
   ]
  },
  {
   "cell_type": "code",
   "execution_count": null,
   "metadata": {},
   "outputs": [],
   "source": [
    "#Now using islice()\n",
    "import itertools\n",
    "for x in itertools.islice(c, 10, 20):\n",
    "    print(x)"
   ]
  },
  {
   "attachments": {},
   "cell_type": "markdown",
   "metadata": {},
   "source": [
    "Discussion"
   ]
  },
  {
   "cell_type": "code",
   "execution_count": 24,
   "metadata": {},
   "outputs": [],
   "source": [
    "#With generators it is easy to fall into a trap of trying to do everything with functions alone. This can lead to rather complicated code if the generator function needs to interact with other parts of your program in unusual ways. If this is the case, just use a class definition, as shown.The fact that its part of a class makes it easy for you to provide attributes and methods for users to interact with."
   ]
  },
  {
   "attachments": {},
   "cell_type": "markdown",
   "metadata": {},
   "source": [
    "Skipping the First Part of an Iterable"
   ]
  },
  {
   "cell_type": "code",
   "execution_count": 26,
   "metadata": {},
   "outputs": [],
   "source": [
    "#You want to iterate over items in an iterable but the first few items arent of interest and you just want to discard them."
   ]
  },
  {
   "cell_type": "code",
   "execution_count": null,
   "metadata": {},
   "outputs": [],
   "source": [
    "with open('/etc/passwd') as f:\n",
    "    for line in f:\n",
    "        print(line, end='')"
   ]
  },
  {
   "cell_type": "code",
   "execution_count": 28,
   "metadata": {},
   "outputs": [
    {
     "name": "stdout",
     "output_type": "stream",
     "text": [
      "root:x:0:0:root:/root:/bin/bash\n",
      "systemd-timesync:x:497:497:systemd Time Synchronization:/:/usr/sbin/nologin\n",
      "messagebus:x:484:484:User for D-Bus:/run/dbus:/usr/sbin/nologin\n",
      "polkitd:x:483:483:User for polkitd:/var/lib/polkit:/usr/sbin/nologin\n",
      "scard:x:482:482:Smart Card Reader:/run/pcscd:/usr/sbin/nologin\n",
      "tftp:x:481:481:TFTP Account:/srv/tftpboot:/usr/sbin/nologin\n",
      "srvGeoClue:x:480:480:User for GeoClue D-Bus service:/var/lib/srvGeoClue:/usr/sbin/nologin\n",
      "pulse:x:478:478:PulseAudio daemon:/var/lib/pulseaudio:/usr/sbin/nologin\n",
      "nobody:x:65534:65534:nobody:/var/lib/nobody:/bin/bash\n",
      "man:x:13:62:Manual pages viewer:/var/lib/empty:/usr/sbin/nologin\n",
      "mail:x:477:477:Mailer daemon:/var/spool/clientmqueue:/usr/sbin/nologin\n",
      "lp:x:489:489:Printing daemon:/var/spool/lpd:/usr/sbin/nologin\n",
      "flatpak:x:476:476:Flatpak system helper:/:/usr/sbin/nologin\n",
      "daemon:x:2:2:Daemon:/sbin:/usr/sbin/nologin\n",
      "rtkit:x:473:473:RealtimeKit:/var/lib/empty:/usr/sbin/nologin\n",
      "rpc:x:472:472:User for rpcbind:/var/lib/empty:/usr/sbin/nologin\n",
      "nscd:x:471:471:User for nscd:/run/nscd:/usr/sbin/nologin\n",
      "chrony:x:470:470:Chrony Daemon:/var/lib/chrony:/usr/sbin/nologin\n",
      "avahi:x:469:469:User for Avahi:/run/avahi-daemon:/usr/sbin/nologin\n",
      "brltty:x:467:467:Braille Device Daemon:/var/lib/brltty:/usr/sbin/nologin\n",
      "dnsmasq:x:466:466:dnsmasq:/var/lib/empty:/usr/sbin/nologin\n",
      "postfix:x:51:51:Postfix Daemon:/var/spool/postfix:/usr/sbin/nologin\n",
      "bin:x:1:1:bin:/bin:/usr/sbin/nologin\n",
      "statd:x:465:465:NFS statd daemon:/var/lib/nfs:/usr/sbin/nologin\n",
      "sshd:x:464:464:SSH daemon:/var/lib/sshd:/usr/sbin/nologin\n",
      "colord:x:463:463:user for colord:/var/lib/colord:/usr/sbin/nologin\n",
      "nm-openvpn:x:462:462:NetworkManager user for OpenVPN:/var/lib/openvpn:/usr/sbin/nologin\n",
      "nm-openconnect:x:461:461:NetworkManager user for OpenConnect:/var/lib/nm-openconnect:/usr/sbin/nologin\n",
      "vnc:x:460:460:user for VNC:/var/lib/empty:/usr/sbin/nologin\n",
      "gdm:x:459:459:Gnome Display Manager daemon:/var/lib/gdm:/usr/sbin/nologin\n",
      "susearc:x:1000:1000:Arka Panda:/home/susearc:/bin/bash\n",
      "unbound:x:458:458:unbound caching DNS server:/var/lib/unbound:/usr/sbin/nologin\n",
      "qemu:x:107:107:qemu user:/:/usr/sbin/nologin\n",
      "tss:x:98:98:TSS daemon:/var/lib/tpm:/usr/sbin/nologin\n",
      "games:x:457:457:Games account:/var/games:/usr/sbin/nologin\n",
      "wsdd:x:456:456:User for wsdd:/run/wsdd:/usr/sbin/nologin\n",
      "pesign:x:454:454:PE-COFF signing daemon:/var/lib/pesign:/usr/sbin/nologin\n",
      "usbmux:x:452:452:usbmuxd daemon:/var/lib/usbmuxd:/usr/sbin/nologin\n",
      "sddm:x:451:451:SDDM daemon:/var/lib/sddm:/usr/sbin/nologin\n",
      "mysql:x:60:60:MySQL database admin:/var/lib/mysql:/usr/sbin/nologin\n",
      "lightdm:x:450:450:LightDM daemon:/var/lib/lightdm:/usr/sbin/nologin\n"
     ]
    }
   ],
   "source": [
    "#if you want to skip all of the initial comment lines, heres one way to do it:\n",
    "\n",
    "from itertools import dropwhile\n",
    "with open('/etc/passwd') as f:\n",
    "    for line in dropwhile(lambda line: line.startswith('#'), f):\n",
    "        print(line, end='')"
   ]
  },
  {
   "cell_type": "code",
   "execution_count": 29,
   "metadata": {},
   "outputs": [
    {
     "name": "stdout",
     "output_type": "stream",
     "text": [
      "1\n",
      "4\n",
      "10\n",
      "15\n"
     ]
    }
   ],
   "source": [
    "from itertools import islice\n",
    "items = ['a','b','c',1,4,10,15]\n",
    "for x in islice(items, 3, None):\n",
    "    print(x)"
   ]
  },
  {
   "cell_type": "code",
   "execution_count": 30,
   "metadata": {},
   "outputs": [],
   "source": [
    "#In this example the last None argument is islice() is required to indicate that you want everything beyond and first three items as opposed to onloy the first three items\n",
    "\n",
    "\n",
    "\n",
    "#in this example the last None argument is islice() is required to indicate that you want everything beyond the first three items as opposed to only teh first three items\n"
   ]
  },
  {
   "attachments": {},
   "cell_type": "markdown",
   "metadata": {},
   "source": [
    "Discussion\n"
   ]
  },
  {
   "cell_type": "code",
   "execution_count": 34,
   "metadata": {},
   "outputs": [
    {
     "name": "stdout",
     "output_type": "stream",
     "text": [
      "root:x:0:0:root:/root:/bin/bash\n",
      "systemd-timesync:x:497:497:systemd Time Synchronization:/:/usr/sbin/nologin\n",
      "messagebus:x:484:484:User for D-Bus:/run/dbus:/usr/sbin/nologin\n",
      "polkitd:x:483:483:User for polkitd:/var/lib/polkit:/usr/sbin/nologin\n",
      "scard:x:482:482:Smart Card Reader:/run/pcscd:/usr/sbin/nologin\n",
      "tftp:x:481:481:TFTP Account:/srv/tftpboot:/usr/sbin/nologin\n",
      "srvGeoClue:x:480:480:User for GeoClue D-Bus service:/var/lib/srvGeoClue:/usr/sbin/nologin\n",
      "pulse:x:478:478:PulseAudio daemon:/var/lib/pulseaudio:/usr/sbin/nologin\n",
      "nobody:x:65534:65534:nobody:/var/lib/nobody:/bin/bash\n",
      "man:x:13:62:Manual pages viewer:/var/lib/empty:/usr/sbin/nologin\n",
      "mail:x:477:477:Mailer daemon:/var/spool/clientmqueue:/usr/sbin/nologin\n",
      "lp:x:489:489:Printing daemon:/var/spool/lpd:/usr/sbin/nologin\n",
      "flatpak:x:476:476:Flatpak system helper:/:/usr/sbin/nologin\n",
      "daemon:x:2:2:Daemon:/sbin:/usr/sbin/nologin\n",
      "rtkit:x:473:473:RealtimeKit:/var/lib/empty:/usr/sbin/nologin\n",
      "rpc:x:472:472:User for rpcbind:/var/lib/empty:/usr/sbin/nologin\n",
      "nscd:x:471:471:User for nscd:/run/nscd:/usr/sbin/nologin\n",
      "chrony:x:470:470:Chrony Daemon:/var/lib/chrony:/usr/sbin/nologin\n",
      "avahi:x:469:469:User for Avahi:/run/avahi-daemon:/usr/sbin/nologin\n",
      "brltty:x:467:467:Braille Device Daemon:/var/lib/brltty:/usr/sbin/nologin\n",
      "dnsmasq:x:466:466:dnsmasq:/var/lib/empty:/usr/sbin/nologin\n",
      "postfix:x:51:51:Postfix Daemon:/var/spool/postfix:/usr/sbin/nologin\n",
      "bin:x:1:1:bin:/bin:/usr/sbin/nologin\n",
      "statd:x:465:465:NFS statd daemon:/var/lib/nfs:/usr/sbin/nologin\n",
      "sshd:x:464:464:SSH daemon:/var/lib/sshd:/usr/sbin/nologin\n",
      "colord:x:463:463:user for colord:/var/lib/colord:/usr/sbin/nologin\n",
      "nm-openvpn:x:462:462:NetworkManager user for OpenVPN:/var/lib/openvpn:/usr/sbin/nologin\n",
      "nm-openconnect:x:461:461:NetworkManager user for OpenConnect:/var/lib/nm-openconnect:/usr/sbin/nologin\n",
      "vnc:x:460:460:user for VNC:/var/lib/empty:/usr/sbin/nologin\n",
      "gdm:x:459:459:Gnome Display Manager daemon:/var/lib/gdm:/usr/sbin/nologin\n",
      "susearc:x:1000:1000:Arka Panda:/home/susearc:/bin/bash\n",
      "unbound:x:458:458:unbound caching DNS server:/var/lib/unbound:/usr/sbin/nologin\n",
      "qemu:x:107:107:qemu user:/:/usr/sbin/nologin\n",
      "tss:x:98:98:TSS daemon:/var/lib/tpm:/usr/sbin/nologin\n",
      "games:x:457:457:Games account:/var/games:/usr/sbin/nologin\n",
      "wsdd:x:456:456:User for wsdd:/run/wsdd:/usr/sbin/nologin\n",
      "pesign:x:454:454:PE-COFF signing daemon:/var/lib/pesign:/usr/sbin/nologin\n",
      "usbmux:x:452:452:usbmuxd daemon:/var/lib/usbmuxd:/usr/sbin/nologin\n",
      "sddm:x:451:451:SDDM daemon:/var/lib/sddm:/usr/sbin/nologin\n",
      "mysql:x:60:60:MySQL database admin:/var/lib/mysql:/usr/sbin/nologin\n",
      "lightdm:x:450:450:LightDM daemon:/var/lib/lightdm:/usr/sbin/nologin\n"
     ]
    }
   ],
   "source": [
    "#The dropwhile() and islice() functions are mainly convenience functions that you can use to avoid writing rather messy code such as this:\n",
    "\n",
    "with open('/etc/passwd') as f:\n",
    "    #skip over initial comments\n",
    "    while True:\n",
    "        line = next(f, '')\n",
    "        if not line.startswith('#'):\n",
    "            break\n",
    "    while line:\n",
    "    #Replace with useful processing\n",
    "\n",
    "        print(line, end='')\n",
    "        line = next(f, None)"
   ]
  },
  {
   "cell_type": "code",
   "execution_count": null,
   "metadata": {},
   "outputs": [],
   "source": [
    "with open('/etc/passwd') as f:\n",
    "    lines = (line for line in f if not line.startswith('#'))\n",
    "    for line in lines:\n",
    "        print(line, end='')"
   ]
  },
  {
   "cell_type": "code",
   "execution_count": 36,
   "metadata": {},
   "outputs": [],
   "source": [
    "#This obviously discard the comment lines at the start  but will also discard all such lines throughout the inter file. On the other hand, the solution only discards items until an item no longer satisfies the supplied test. After that, all subsequent items are returned with no filtering.\n",
    "\n",
    "#Last but not least it should be emphasized that this recipe works with all iterables, including those whose size cant be determined in advance. This includes generators, files, and similar kinds of objects."
   ]
  },
  {
   "attachments": {},
   "cell_type": "markdown",
   "metadata": {},
   "source": [
    "Iterating Over all possible Combinations or Permutations"
   ]
  },
  {
   "cell_type": "code",
   "execution_count": 37,
   "metadata": {},
   "outputs": [],
   "source": [
    "#You want to iterate over all of the possible combinations or permutations of a collection of items."
   ]
  },
  {
   "cell_type": "code",
   "execution_count": 38,
   "metadata": {},
   "outputs": [
    {
     "name": "stdout",
     "output_type": "stream",
     "text": [
      "('a', 'b', 'c')\n",
      "('a', 'c', 'b')\n",
      "('b', 'a', 'c')\n",
      "('b', 'c', 'a')\n",
      "('c', 'a', 'b')\n",
      "('c', 'b', 'a')\n"
     ]
    }
   ],
   "source": [
    "#The itertools module provides three function sfor this task. The first of these itertools.permutations() takes a collection of items and produces a sequence of tuples that rearranges all of the items into all possible permutations for example:\n",
    "\n",
    "items = ['a', 'b', 'c']\n",
    "from itertools import permutations\n",
    "\n",
    "for p in permutations(items):\n",
    "    print(p)"
   ]
  },
  {
   "cell_type": "code",
   "execution_count": 39,
   "metadata": {},
   "outputs": [
    {
     "name": "stdout",
     "output_type": "stream",
     "text": [
      "('a', 'b')\n",
      "('a', 'c')\n",
      "('b', 'a')\n",
      "('b', 'c')\n",
      "('c', 'a')\n",
      "('c', 'b')\n"
     ]
    }
   ],
   "source": [
    "#If you want all permutations of a smaller length you can give an optional length argument. For example:\n",
    "\n",
    "for p in permutations(items, 2):\n",
    "    print(p)"
   ]
  },
  {
   "cell_type": "code",
   "execution_count": 40,
   "metadata": {},
   "outputs": [
    {
     "name": "stdout",
     "output_type": "stream",
     "text": [
      "('a', 'b', 'c')\n"
     ]
    }
   ],
   "source": [
    "#Use itertools.combinations() to produce a sequence of combinations of items taken from the input. For example:\n",
    "from itertools import combinations\n",
    "for c in combinations(items, 3):\n",
    "    print(c)\n",
    "    "
   ]
  },
  {
   "cell_type": "code",
   "execution_count": 41,
   "metadata": {},
   "outputs": [
    {
     "name": "stdout",
     "output_type": "stream",
     "text": [
      "('a',)\n",
      "('b',)\n",
      "('c',)\n"
     ]
    }
   ],
   "source": [
    "for c in combinations(items, 1):\n",
    "    print(c)"
   ]
  },
  {
   "cell_type": "code",
   "execution_count": 43,
   "metadata": {},
   "outputs": [
    {
     "name": "stdout",
     "output_type": "stream",
     "text": [
      "('a', 'a', 'a')\n",
      "('a', 'a', 'b')\n",
      "('a', 'a', 'c')\n",
      "('a', 'b', 'b')\n",
      "('a', 'b', 'c')\n",
      "('a', 'c', 'c')\n",
      "('b', 'b', 'b')\n",
      "('b', 'b', 'c')\n",
      "('b', 'c', 'c')\n",
      "('c', 'c', 'c')\n"
     ]
    }
   ],
   "source": [
    "#For combinations() the actual order of the elements is not considered. That is, the combination ('a','b') is considered to be the same as ('b','a')(which is not produced).\n",
    "\n",
    "#When producing combinations chosen items are removed from the collectionof possible candidates. The itertools.combinations_with_replacement() function relaxes this, and allows the same item to be chosen more than once\n",
    "\n",
    "\n",
    "for c in itertools.combinations_with_replacement(items, 3):\n",
    "    print(c)"
   ]
  },
  {
   "attachments": {},
   "cell_type": "markdown",
   "metadata": {},
   "source": [
    "Discussion"
   ]
  },
  {
   "cell_type": "code",
   "execution_count": 44,
   "metadata": {},
   "outputs": [],
   "source": [
    "#This recipe demonstrates only some of the power found in the itertools module. Although you could certainly write code to produce permutations and combinations yourself, doing so would probably require more than a fair bit of thought. When faced with seemingly complicated iteration problems, it always pays to look at itertools first. If the problem is common, chances are a solution is already availble."
   ]
  },
  {
   "attachments": {},
   "cell_type": "markdown",
   "metadata": {},
   "source": [
    "Iterating Over the index value pairs of a sequence"
   ]
  },
  {
   "cell_type": "code",
   "execution_count": 45,
   "metadata": {},
   "outputs": [
    {
     "name": "stdout",
     "output_type": "stream",
     "text": [
      "0 a\n",
      "1 b\n",
      "2 c\n"
     ]
    }
   ],
   "source": [
    "#You want to iterate over a sequence but would like to keep track of which element of the sequence is currently being processed.\n",
    "\n",
    "my_list = ['a', 'b', 'c']\n",
    "\n",
    "for idx, val in enumerate(my_list):\n",
    "    print(idx, val)"
   ]
  },
  {
   "cell_type": "code",
   "execution_count": 46,
   "metadata": {},
   "outputs": [
    {
     "name": "stdout",
     "output_type": "stream",
     "text": [
      "1 a\n",
      "2 b\n",
      "3 c\n"
     ]
    }
   ],
   "source": [
    "#For printing output with canonical line numbers you can pass in a start argument:\n",
    "\n",
    "my_list = ['a', 'b','c']\n",
    "for idx, val in enumerate(my_list, 1):\n",
    "    print(idx, val)"
   ]
  },
  {
   "cell_type": "code",
   "execution_count": 47,
   "metadata": {},
   "outputs": [],
   "source": [
    "def parse_data(filename):\n",
    "    with open(filename, 'rt') as f:\n",
    "        for lineno, line in enumerate(f, 1):\n",
    "            fields = line.split()\n",
    "            try:\n",
    "                count = int(fields[1])\n",
    "            except ValueError as e:\n",
    "                print('Line {}: Parse error: {}'.format(lineno, e))"
   ]
  },
  {
   "cell_type": "code",
   "execution_count": 50,
   "metadata": {},
   "outputs": [],
   "source": [
    "from collections import defaultdict\n",
    "word_summary = defaultdict(list)\n",
    "\n",
    "with open('myfile.txt', 'w+') as f:\n",
    "    lines = f.readlines()\n",
    "\n",
    "for idx, line in enumerate(lines):\n",
    "    #create a list of words in current line\n",
    "    words = [w.strip().lower() for w in line.split()]\n",
    "    for word in words:\n",
    "        word_summary[word].append(idx)"
   ]
  },
  {
   "cell_type": "code",
   "execution_count": 51,
   "metadata": {},
   "outputs": [],
   "source": [
    "#The value for each word key will be a list of line numbers that word occured on. If the word occurred twice on a single line, that line number will be listed twice, making it possible to identify various simple metrics about the text"
   ]
  },
  {
   "cell_type": "code",
   "execution_count": 53,
   "metadata": {},
   "outputs": [],
   "source": [
    "f = open('myfile.txt','r')"
   ]
  },
  {
   "cell_type": "code",
   "execution_count": 54,
   "metadata": {},
   "outputs": [],
   "source": [
    "#enumerate() is a nice shortcut for situations where you might be inclined to keep your own counter variable. You could write code like this:\n",
    "\n",
    "\n",
    "lineno = 1\n",
    "for line in f:\n",
    "    #process line\n",
    "    ...\n",
    "    lineno +=1"
   ]
  },
  {
   "cell_type": "code",
   "execution_count": 55,
   "metadata": {},
   "outputs": [
    {
     "data": {
      "text/plain": [
       "1"
      ]
     },
     "execution_count": 55,
     "metadata": {},
     "output_type": "execute_result"
    }
   ],
   "source": [
    "for lineno, line in enumerate(f):\n",
    "\n",
    "\n",
    "#The value returned by enumerate() is an instance of an enumerate object which is an iterator that returns successive tuples consisting of a counter and the value returned by calling next() on the sequence you have passed in.\n",
    "\n",
    "#Although a minor point, its worth mentioning that sometimes it is easy to get tripped up when applying enumerate(0 to a sequence of tuples that are also being unpacked.To do it you have to write code like this:\n",
    "\n",
    "\n",
    "data = [(1,2), (3,4), (5,6), (7,8)]\n",
    "\n",
    "for n, (x,y) in enumerate(data):\n",
    "    #Error\n",
    "for n, x, y in enumerate(data)"
   ]
  },
  {
   "attachments": {},
   "cell_type": "markdown",
   "metadata": {},
   "source": [
    "Iterating Over Multiple Sequences Simultaneously"
   ]
  },
  {
   "cell_type": "code",
   "execution_count": 1,
   "metadata": {},
   "outputs": [
    {
     "name": "stdout",
     "output_type": "stream",
     "text": [
      "1 101\n",
      "5 78\n",
      "4 37\n",
      "2 15\n",
      "10 62\n",
      "7 99\n"
     ]
    }
   ],
   "source": [
    "xpts = [1,5,4,2,10,7]\n",
    "ypts = [101, 78, 37, 15, 62, 99]\n",
    "\n",
    "for x,y in zip(xpts, ypts):\n",
    "    print(x,y)"
   ]
  },
  {
   "cell_type": "code",
   "execution_count": 2,
   "metadata": {},
   "outputs": [],
   "source": [
    "a = [1,2,3]\n",
    "b = ['w','x','y','z']"
   ]
  },
  {
   "cell_type": "code",
   "execution_count": 3,
   "metadata": {},
   "outputs": [
    {
     "name": "stdout",
     "output_type": "stream",
     "text": [
      "(1, 'w')\n",
      "(2, 'x')\n",
      "(3, 'y')\n"
     ]
    }
   ],
   "source": [
    "\n",
    "for i in zip(a,b):\n",
    "    print(i)"
   ]
  },
  {
   "cell_type": "code",
   "execution_count": 4,
   "metadata": {},
   "outputs": [
    {
     "name": "stdout",
     "output_type": "stream",
     "text": [
      "(1, 'w')\n",
      "(2, 'x')\n",
      "(3, 'y')\n",
      "(None, 'z')\n"
     ]
    }
   ],
   "source": [
    "#If this behavior is not desired, use itertools.zip_longest() instead\n",
    "\n",
    "from itertools import zip_longest\n",
    "for i in zip_longest(a,b):\n",
    "    print(i)"
   ]
  },
  {
   "cell_type": "code",
   "execution_count": 5,
   "metadata": {},
   "outputs": [
    {
     "name": "stdout",
     "output_type": "stream",
     "text": [
      "(1, 'w')\n",
      "(2, 'x')\n",
      "(3, 'y')\n",
      "(0, 'z')\n"
     ]
    }
   ],
   "source": [
    "for i in zip_longest(a, b, fillvalue=0):\n",
    "    print(i)"
   ]
  },
  {
   "cell_type": "code",
   "execution_count": 1,
   "metadata": {},
   "outputs": [],
   "source": [
    "import os"
   ]
  },
  {
   "cell_type": "code",
   "execution_count": 3,
   "metadata": {},
   "outputs": [
    {
     "ename": "TypeError",
     "evalue": "walk() missing 1 required positional argument: 'top'",
     "output_type": "error",
     "traceback": [
      "\u001b[0;31m---------------------------------------------------------------------------\u001b[0m",
      "\u001b[0;31mTypeError\u001b[0m                                 Traceback (most recent call last)",
      "Cell \u001b[0;32mIn[3], line 1\u001b[0m\n\u001b[0;32m----> 1\u001b[0m os\u001b[39m.\u001b[39;49mwalk()\n",
      "\u001b[0;31mTypeError\u001b[0m: walk() missing 1 required positional argument: 'top'"
     ]
    }
   ],
   "source": [
    "os.walk()"
   ]
  },
  {
   "attachments": {},
   "cell_type": "markdown",
   "metadata": {},
   "source": [
    "Flattening a Nested Sequence"
   ]
  },
  {
   "cell_type": "code",
   "execution_count": 20,
   "metadata": {},
   "outputs": [],
   "source": [
    "#You have a nested sequence that you want to flatten into a single list of values.\n",
    " #from itertools import \n",
    "items = [1, 2, [3, 4, [5, 6], 7], 8]\n",
    "\n",
    "def flatten(items):\n",
    "    for a in items:\n",
    "        if (type(a) != list):\n",
    "            yield a\n",
    "        else:\n",
    "            return flatten(a)\n"
   ]
  },
  {
   "cell_type": "code",
   "execution_count": 34,
   "metadata": {},
   "outputs": [],
   "source": [
    "from collections.abc import Iterable\n",
    "\n",
    "def flatten(items, ignore_types=(str, bytes)):\n",
    "    for x in items:\n",
    "        if isinstance(x, Iterable) and not isinstance(x, ignore_types):\n",
    "            yield from flatten(x)\n",
    "        else:\n",
    "            yield x"
   ]
  },
  {
   "cell_type": "code",
   "execution_count": 35,
   "metadata": {},
   "outputs": [
    {
     "name": "stdout",
     "output_type": "stream",
     "text": [
      "1\n",
      "2\n",
      "3\n",
      "4\n",
      "5\n",
      "6\n",
      "7\n",
      "8\n"
     ]
    }
   ],
   "source": [
    "for x in flatten(items):\n",
    "    print(x)"
   ]
  },
  {
   "attachments": {},
   "cell_type": "markdown",
   "metadata": {},
   "source": [
    "Replacing Infinite while loops with an Iterator"
   ]
  },
  {
   "cell_type": "code",
   "execution_count": null,
   "metadata": {},
   "outputs": [],
   "source": [
    "\n"
   ]
  }
 ],
 "metadata": {
  "kernelspec": {
   "display_name": "my-pypy",
   "language": "python",
   "name": "python3"
  },
  "language_info": {
   "codemirror_mode": {
    "name": "ipython",
    "version": 3
   },
   "file_extension": ".py",
   "mimetype": "text/x-python",
   "name": "python",
   "nbconvert_exporter": "python",
   "pygments_lexer": "ipython3",
   "version": "3.9.12"
  },
  "orig_nbformat": 4,
  "vscode": {
   "interpreter": {
    "hash": "2f5533fd6924202fd88ccc6d81a9f253a530b6dfb71af0b09e2f01180b11fc04"
   }
  }
 },
 "nbformat": 4,
 "nbformat_minor": 2
}
