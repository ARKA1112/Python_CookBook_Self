{
 "cells": [
  {
   "cell_type": "markdown",
   "metadata": {},
   "source": [
    "## Concurrency"
   ]
  },
  {
   "cell_type": "code",
   "execution_count": null,
   "metadata": {},
   "outputs": [
    {
     "ename": "",
     "evalue": "",
     "output_type": "error",
     "traceback": [
      "\u001b[1;31mFailed to start the Kernel. \n",
      "\u001b[1;31mUnable to start Kernel 'PyTorch2.0_env (Python 3.10.12)' due to a timeout waiting for the ports to get used. \n",
      "\u001b[1;31mView Jupyter <a href='command:jupyter.viewOutput'>log</a> for further details."
     ]
    }
   ],
   "source": [
    "# We all know that concurrent programming including programming with threads, launching subprocesses and various tricks involving generator functions.\n",
    "\n",
    "\n"
   ]
  },
  {
   "cell_type": "markdown",
   "metadata": {},
   "source": [
    "## Starting and Stopping Threads"
   ]
  },
  {
   "cell_type": "code",
   "execution_count": 18,
   "metadata": {},
   "outputs": [
    {
     "name": "stdout",
     "output_type": "stream",
     "text": [
      "T minus 10\n"
     ]
    },
    {
     "name": "stdout",
     "output_type": "stream",
     "text": [
      "T minus 9\n"
     ]
    }
   ],
   "source": [
    "# The threading library can be used to execute any python callable in its own thread. To do this you create a thread instance and supply the callable that you wish to execute as a target.\n",
    "\n",
    "# Cod to execute in an independent thread\n",
    "import time\n",
    "\n",
    "def countdown(n):\n",
    "    while n>0:\n",
    "        print('T minus', n)\n",
    "        n -= 1\n",
    "        time.sleep(5)\n",
    "\n",
    "# Create and launch a thread\n",
    "\n",
    "from threading import Thread\n",
    "\n",
    "t = Thread(target=countdown, args=(10,))\n",
    "t.start()"
   ]
  },
  {
   "cell_type": "code",
   "execution_count": 16,
   "metadata": {},
   "outputs": [
    {
     "name": "stdout",
     "output_type": "stream",
     "text": [
      "Completed\n"
     ]
    }
   ],
   "source": [
    "if t.is_alive():\n",
    "    print('Still Running')\n",
    "else:\n",
    "    print('Completed')"
   ]
  },
  {
   "cell_type": "code",
   "execution_count": 19,
   "metadata": {},
   "outputs": [
    {
     "name": "stdout",
     "output_type": "stream",
     "text": [
      "T minus 10\n"
     ]
    },
    {
     "name": "stdout",
     "output_type": "stream",
     "text": [
      "T minus 8\n",
      "T minus 9\n",
      "T minus 7\n",
      "T minus 8\n",
      "T minus 6\n",
      "T minus 7\n",
      "T minus 5\n",
      "T minus 6\n",
      "T minus 4\n",
      "T minus 5\n",
      "T minus 3\n",
      "T minus 4\n",
      "T minus 2\n",
      "T minus 3\n",
      "T minus 1\n",
      "T minus 2\n",
      "T minus 1\n"
     ]
    }
   ],
   "source": [
    "# For long  running threads or if we want the threads to run forever we should consider making the thread daemonic\n",
    "\n",
    "\n",
    "t = Thread(target = countdown, args=(10,), daemon=True)\n",
    "t.start()"
   ]
  },
  {
   "cell_type": "markdown",
   "metadata": {},
   "source": [
    "## The following [20,21,21] cells describe how to terminate a thread"
   ]
  },
  {
   "cell_type": "code",
   "execution_count": 20,
   "metadata": {},
   "outputs": [],
   "source": [
    "# If you want to be able to terminate threads, the thread must be programmed to poll for exit at selected points. For example, you might put your thread in a class such  as this:\n",
    "\n",
    "class CountdownTask:\n",
    "    def __init__(self):\n",
    "        self._running = True\n",
    "\n",
    "    def terminate(self):\n",
    "        self._running = False\n",
    "    \n",
    "    def run(self, n):\n",
    "        while self._running and n>0:\n",
    "            print('T-minus',n)\n",
    "            n -= 1\n",
    "            time.sleep(3)\n",
    "\n",
    "c = CountdownTask()\n",
    "t = Thread(target=c.run, args=(10,), daemon=True)"
   ]
  },
  {
   "cell_type": "code",
   "execution_count": 21,
   "metadata": {},
   "outputs": [
    {
     "name": "stdout",
     "output_type": "stream",
     "text": [
      "T-minus 10\n"
     ]
    },
    {
     "name": "stdout",
     "output_type": "stream",
     "text": [
      "T-minus 9\n",
      "T-minus 8\n"
     ]
    }
   ],
   "source": [
    "t.start()"
   ]
  },
  {
   "cell_type": "code",
   "execution_count": 22,
   "metadata": {},
   "outputs": [],
   "source": [
    "c.terminate()"
   ]
  },
  {
   "cell_type": "code",
   "execution_count": null,
   "metadata": {},
   "outputs": [],
   "source": []
  }
 ],
 "metadata": {
  "kernelspec": {
   "display_name": "Python 3",
   "language": "python",
   "name": "python3"
  },
  "language_info": {
   "codemirror_mode": {
    "name": "ipython",
    "version": 3
   },
   "file_extension": ".py",
   "mimetype": "text/x-python",
   "name": "python",
   "nbconvert_exporter": "python",
   "pygments_lexer": "ipython3",
   "version": "3.10.12"
  },
  "orig_nbformat": 4
 },
 "nbformat": 4,
 "nbformat_minor": 2
}
