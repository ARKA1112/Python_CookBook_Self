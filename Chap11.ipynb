{
 "cells": [
  {
   "cell_type": "markdown",
   "metadata": {},
   "source": [
    "## Network and Web Programming"
   ]
  },
  {
   "cell_type": "code",
   "execution_count": 1,
   "metadata": {},
   "outputs": [],
   "source": [
    "# simple request \n",
    "\n",
    "from urllib import request, parse\n",
    " # Base URL being accessed\n",
    "\n",
    "url = 'http://httpbin.org/get'\n",
    "\n",
    "\n",
    "# Dictionary of query parameters(if any)\n",
    "parms = {\n",
    "    'name1': 'value1',\n",
    "    'name2': 'value2'\n",
    "}"
   ]
  },
  {
   "cell_type": "code",
   "execution_count": 2,
   "metadata": {},
   "outputs": [
    {
     "data": {
      "text/plain": [
       "b'{\\n  \"args\": {\\n    \"name1\": \"value1\", \\n    \"name2\": \"value2\"\\n  }, \\n  \"headers\": {\\n    \"Accept-Encoding\": \"identity\", \\n    \"Host\": \"httpbin.org\", \\n    \"User-Agent\": \"Python-urllib/3.10\", \\n    \"X-Amzn-Trace-Id\": \"Root=1-65145358-0886d4832af7e295599e4701\"\\n  }, \\n  \"origin\": \"103.31.189.144\", \\n  \"url\": \"http://httpbin.org/get?name1=value1&name2=value2\"\\n}\\n'"
      ]
     },
     "execution_count": 2,
     "metadata": {},
     "output_type": "execute_result"
    }
   ],
   "source": [
    "# Encode the query string\n",
    "\n",
    "querystring = parse.urlencode(parms)\n",
    "\n",
    "\n",
    "# Make a GET request and read the response\n",
    "\n",
    "u  = request.urlopen(url + '?' + querystring)\n",
    "resp = u.read()\n",
    "resp"
   ]
  },
  {
   "cell_type": "code",
   "execution_count": 3,
   "metadata": {},
   "outputs": [],
   "source": [
    "# If you need to supply some custom HTTP headers in the outgoing request such as a change to the user-agent field, make a dictionary containing their calue and create a Request instance and pass it to urlopen() like this:\n",
    "\n",
    "\n",
    "from urllib import request, parse\n",
    "\n",
    "# Extra headers\n",
    "\n",
    "headers = {\n",
    "    'User-agent': 'none/ofyourbusiness',\n",
    "    'Spam': 'Eggs'\n",
    "}"
   ]
  },
  {
   "cell_type": "code",
   "execution_count": null,
   "metadata": {},
   "outputs": [],
   "source": [
    "req = request.Request(url, querystring.encode('ascii'), headers=headers)\n",
    "\n",
    "\n",
    "# Make a request and read the response\n",
    "u = request.urlopen(req)\n",
    "resp = u.read()"
   ]
  },
  {
   "cell_type": "code",
   "execution_count": 5,
   "metadata": {},
   "outputs": [],
   "source": [
    "#Using requests library\n",
    "import requests\n",
    "\n",
    "url = 'http://httpbin.org/post'\n",
    "\n",
    "\n",
    "parms = {\n",
    "    'name1': 'value1',\n",
    "    'name2': 'value2'\n",
    "}\n",
    "\n",
    "\n",
    "# Extra headers\n",
    "headers = {\n",
    "    'User-agent': 'none/ofyourbusiness',\n",
    "    'Spam': 'Eggs'\n",
    "}\n",
    "\n",
    "resp = requests.post(url, data=parms, headers=headers)"
   ]
  },
  {
   "cell_type": "code",
   "execution_count": 6,
   "metadata": {},
   "outputs": [
    {
     "data": {
      "text/plain": [
       "'{\\n  \"args\": {}, \\n  \"data\": \"\", \\n  \"files\": {}, \\n  \"form\": {\\n    \"name1\": \"value1\", \\n    \"name2\": \"value2\"\\n  }, \\n  \"headers\": {\\n    \"Accept\": \"*/*\", \\n    \"Accept-Encoding\": \"gzip, deflate, br, zstd\", \\n    \"Content-Length\": \"25\", \\n    \"Content-Type\": \"application/x-www-form-urlencoded\", \\n    \"Host\": \"httpbin.org\", \\n    \"Spam\": \"Eggs\", \\n    \"User-Agent\": \"none/ofyourbusiness\", \\n    \"X-Amzn-Trace-Id\": \"Root=1-6514570a-09aea2743ad7aa7421c199e5\"\\n  }, \\n  \"json\": null, \\n  \"origin\": \"103.31.189.144\", \\n  \"url\": \"http://httpbin.org/post\"\\n}\\n'"
      ]
     },
     "execution_count": 6,
     "metadata": {},
     "output_type": "execute_result"
    }
   ],
   "source": [
    "resp.text"
   ]
  },
  {
   "cell_type": "code",
   "execution_count": 7,
   "metadata": {},
   "outputs": [
    {
     "data": {
      "text/plain": [
       "b'{\\n  \"args\": {}, \\n  \"data\": \"\", \\n  \"files\": {}, \\n  \"form\": {\\n    \"name1\": \"value1\", \\n    \"name2\": \"value2\"\\n  }, \\n  \"headers\": {\\n    \"Accept\": \"*/*\", \\n    \"Accept-Encoding\": \"gzip, deflate, br, zstd\", \\n    \"Content-Length\": \"25\", \\n    \"Content-Type\": \"application/x-www-form-urlencoded\", \\n    \"Host\": \"httpbin.org\", \\n    \"Spam\": \"Eggs\", \\n    \"User-Agent\": \"none/ofyourbusiness\", \\n    \"X-Amzn-Trace-Id\": \"Root=1-6514570a-09aea2743ad7aa7421c199e5\"\\n  }, \\n  \"json\": null, \\n  \"origin\": \"103.31.189.144\", \\n  \"url\": \"http://httpbin.org/post\"\\n}\\n'"
      ]
     },
     "execution_count": 7,
     "metadata": {},
     "output_type": "execute_result"
    }
   ],
   "source": [
    "resp.content"
   ]
  },
  {
   "cell_type": "code",
   "execution_count": 10,
   "metadata": {},
   "outputs": [],
   "source": [
    "## Example of requests that executes a login into the Python Package index using basic authentication:\n",
    "\n",
    "\n",
    "import requests\n",
    "\n",
    "resp = requests.get('http://pypi.python.org/pypi?:action=login', auth = ('user','password'))\n",
    "\n",
    "import requests\n",
    "\n",
    "# First request\n",
    "resp1 = requests.get(url)\n",
    "\n",
    "\n",
    "# Second requests with cookies received on first requests\n",
    "resp2 = requests.get(url, cookies=resp1.cookies)\n"
   ]
  },
  {
   "cell_type": "code",
   "execution_count": 12,
   "metadata": {},
   "outputs": [
    {
     "name": "stdout",
     "output_type": "stream",
     "text": [
      "('<!DOCTYPE HTML PUBLIC \"-//W3C//DTD HTML 3.2 Final//EN\">\\n'\n",
      " '<title>405 Method Not Allowed</title>\\n'\n",
      " '<h1>Method Not Allowed</h1>\\n'\n",
      " '<p>The method is not allowed for the requested URL.</p>\\n')\n",
      "('<!DOCTYPE HTML PUBLIC \"-//W3C//DTD HTML 3.2 Final//EN\">\\n'\n",
      " '<title>405 Method Not Allowed</title>\\n'\n",
      " '<h1>Method Not Allowed</h1>\\n'\n",
      " '<p>The method is not allowed for the requested URL.</p>\\n')\n"
     ]
    }
   ],
   "source": [
    "from pprint import pprint\n",
    "\n",
    "pprint(resp1.text)\n",
    "pprint(resp2.text)"
   ]
  },
  {
   "cell_type": "code",
   "execution_count": 13,
   "metadata": {},
   "outputs": [],
   "source": [
    "from http.client import HTTPConnection\n",
    "from urllib import parse\n",
    "\n",
    "c = HTTPConnection('www.python.org',80)\n",
    "c.request('HEAD', '/index.html')\n",
    "resp = c.getresponse()"
   ]
  },
  {
   "cell_type": "code",
   "execution_count": 1,
   "metadata": {},
   "outputs": [
    {
     "data": {
      "text/plain": [
       "5"
      ]
     },
     "execution_count": 1,
     "metadata": {},
     "output_type": "execute_result"
    }
   ],
   "source": [
    "# refer tcpserver.py\n",
    "# now test the server run it and then open a separate python process that connects to it\n",
    "\n",
    "\n",
    "from socket import socket, AF_INET, SOCK_STREAM\n",
    "s = socket(AF_INET, SOCK_STREAM)\n",
    "s.connect(('localhost', 20000))\n",
    "s.send(b'Hello')\n"
   ]
  },
  {
   "cell_type": "code",
   "execution_count": 2,
   "metadata": {},
   "outputs": [
    {
     "data": {
      "text/plain": [
       "b'Hello'"
      ]
     },
     "execution_count": 2,
     "metadata": {},
     "output_type": "execute_result"
    }
   ],
   "source": [
    "s.recv(8192)"
   ]
  },
  {
   "cell_type": "code",
   "execution_count": null,
   "metadata": {},
   "outputs": [],
   "source": []
  }
 ],
 "metadata": {
  "kernelspec": {
   "display_name": "Python 3",
   "language": "python",
   "name": "python3"
  },
  "language_info": {
   "codemirror_mode": {
    "name": "ipython",
    "version": 3
   },
   "file_extension": ".py",
   "mimetype": "text/x-python",
   "name": "python",
   "nbconvert_exporter": "python",
   "pygments_lexer": "ipython3",
   "version": "3.10.12"
  },
  "orig_nbformat": 4
 },
 "nbformat": 4,
 "nbformat_minor": 2
}
